{
 "cells": [
  {
   "cell_type": "markdown",
   "metadata": {},
   "source": [
    "# Women's Clothing E-Commerce Reviews"
   ]
  },
  {
   "cell_type": "code",
   "execution_count": 1,
   "metadata": {
    "collapsed": true
   },
   "outputs": [
    {
     "name": "stderr",
     "output_type": "stream",
     "text": [
      "C:\\Users\\Vinay\\Anaconda3\\lib\\site-packages\\dask\\config.py:168: YAMLLoadWarning: calling yaml.load() without Loader=... is deprecated, as the default Loader is unsafe. Please read https://msg.pyyaml.org/load for full details.\n",
      "  data = yaml.load(f.read()) or {}\n",
      "C:\\Users\\Vinay\\Anaconda3\\lib\\site-packages\\distributed\\config.py:20: YAMLLoadWarning: calling yaml.load() without Loader=... is deprecated, as the default Loader is unsafe. Please read https://msg.pyyaml.org/load for full details.\n",
      "  defaults = yaml.load(f)\n"
     ]
    }
   ],
   "source": [
    "# Load Libraries\n",
    "import pandas as pd\n",
    "import numpy as np\n",
    "import matplotlib.pyplot as plt\n",
    "%matplotlib inline\n",
    "import seaborn as sns\n",
    "import nltk\n",
    "import string\n",
    "import re\n",
    "\n",
    "from sklearn.feature_extraction.text import CountVectorizer\n",
    "from sklearn.metrics import confusion_matrix\n",
    "from sklearn import metrics\n",
    "from sklearn.metrics import roc_curve, auc\n",
    "from sklearn.model_selection import train_test_split\n",
    "from sklearn.naive_bayes import MultinomialNB\n",
    "from sklearn.naive_bayes import BernoulliNB\n",
    "from sklearn.metrics import accuracy_score\n",
    "from sklearn.linear_model import LogisticRegression\n",
    "from sklearn.tree import DecisionTreeClassifier\n",
    "from sklearn.neighbors import KNeighborsClassifier\n",
    "from sklearn.ensemble import RandomForestClassifier\n",
    "from sklearn.linear_model import SGDClassifier\n",
    "from sklearn.svm import SVC\n",
    "from sklearn.neural_network import MLPClassifier\n",
    "from sklearn.metrics import roc_curve, auc\n",
    "\n",
    "from xgboost import XGBClassifier\n",
    "\n",
    "from nltk.corpus import stopwords"
   ]
  },
  {
   "cell_type": "code",
   "execution_count": 2,
   "metadata": {},
   "outputs": [],
   "source": [
    "data = pd.read_csv('C:/Users/Vinay/Documents/Womens_Clothing_E_Commerce_Reviews.csv', \n",
    "                   index_col=0)"
   ]
  },
  {
   "cell_type": "code",
   "execution_count": 3,
   "metadata": {},
   "outputs": [
    {
     "data": {
      "text/html": [
       "<div>\n",
       "<style scoped>\n",
       "    .dataframe tbody tr th:only-of-type {\n",
       "        vertical-align: middle;\n",
       "    }\n",
       "\n",
       "    .dataframe tbody tr th {\n",
       "        vertical-align: top;\n",
       "    }\n",
       "\n",
       "    .dataframe thead th {\n",
       "        text-align: right;\n",
       "    }\n",
       "</style>\n",
       "<table border=\"1\" class=\"dataframe\">\n",
       "  <thead>\n",
       "    <tr style=\"text-align: right;\">\n",
       "      <th></th>\n",
       "      <th>Clothing ID</th>\n",
       "      <th>Age</th>\n",
       "      <th>Title</th>\n",
       "      <th>Review Text</th>\n",
       "      <th>Rating</th>\n",
       "      <th>Recommended IND</th>\n",
       "      <th>Positive Feedback Count</th>\n",
       "      <th>Division Name</th>\n",
       "      <th>Department Name</th>\n",
       "      <th>Class Name</th>\n",
       "    </tr>\n",
       "  </thead>\n",
       "  <tbody>\n",
       "    <tr>\n",
       "      <th>0</th>\n",
       "      <td>767</td>\n",
       "      <td>33</td>\n",
       "      <td>NaN</td>\n",
       "      <td>Absolutely wonderful - silky and sexy and comf...</td>\n",
       "      <td>4</td>\n",
       "      <td>1</td>\n",
       "      <td>0</td>\n",
       "      <td>Initmates</td>\n",
       "      <td>Intimate</td>\n",
       "      <td>Intimates</td>\n",
       "    </tr>\n",
       "    <tr>\n",
       "      <th>1</th>\n",
       "      <td>1080</td>\n",
       "      <td>34</td>\n",
       "      <td>NaN</td>\n",
       "      <td>Love this dress!  it's sooo pretty.  i happene...</td>\n",
       "      <td>5</td>\n",
       "      <td>1</td>\n",
       "      <td>4</td>\n",
       "      <td>General</td>\n",
       "      <td>Dresses</td>\n",
       "      <td>Dresses</td>\n",
       "    </tr>\n",
       "    <tr>\n",
       "      <th>2</th>\n",
       "      <td>1077</td>\n",
       "      <td>60</td>\n",
       "      <td>Some major design flaws</td>\n",
       "      <td>I had such high hopes for this dress and reall...</td>\n",
       "      <td>3</td>\n",
       "      <td>0</td>\n",
       "      <td>0</td>\n",
       "      <td>General</td>\n",
       "      <td>Dresses</td>\n",
       "      <td>Dresses</td>\n",
       "    </tr>\n",
       "    <tr>\n",
       "      <th>3</th>\n",
       "      <td>1049</td>\n",
       "      <td>50</td>\n",
       "      <td>My favorite buy!</td>\n",
       "      <td>I love, love, love this jumpsuit. it's fun, fl...</td>\n",
       "      <td>5</td>\n",
       "      <td>1</td>\n",
       "      <td>0</td>\n",
       "      <td>General Petite</td>\n",
       "      <td>Bottoms</td>\n",
       "      <td>Pants</td>\n",
       "    </tr>\n",
       "    <tr>\n",
       "      <th>4</th>\n",
       "      <td>847</td>\n",
       "      <td>47</td>\n",
       "      <td>Flattering shirt</td>\n",
       "      <td>This shirt is very flattering to all due to th...</td>\n",
       "      <td>5</td>\n",
       "      <td>1</td>\n",
       "      <td>6</td>\n",
       "      <td>General</td>\n",
       "      <td>Tops</td>\n",
       "      <td>Blouses</td>\n",
       "    </tr>\n",
       "    <tr>\n",
       "      <th>5</th>\n",
       "      <td>1080</td>\n",
       "      <td>49</td>\n",
       "      <td>Not for the very petite</td>\n",
       "      <td>I love tracy reese dresses, but this one is no...</td>\n",
       "      <td>2</td>\n",
       "      <td>0</td>\n",
       "      <td>4</td>\n",
       "      <td>General</td>\n",
       "      <td>Dresses</td>\n",
       "      <td>Dresses</td>\n",
       "    </tr>\n",
       "    <tr>\n",
       "      <th>6</th>\n",
       "      <td>858</td>\n",
       "      <td>39</td>\n",
       "      <td>Cagrcoal shimmer fun</td>\n",
       "      <td>I aded this in my basket at hte last mintue to...</td>\n",
       "      <td>5</td>\n",
       "      <td>1</td>\n",
       "      <td>1</td>\n",
       "      <td>General Petite</td>\n",
       "      <td>Tops</td>\n",
       "      <td>Knits</td>\n",
       "    </tr>\n",
       "    <tr>\n",
       "      <th>7</th>\n",
       "      <td>858</td>\n",
       "      <td>39</td>\n",
       "      <td>Shimmer, surprisingly goes with lots</td>\n",
       "      <td>I ordered this in carbon for store pick up, an...</td>\n",
       "      <td>4</td>\n",
       "      <td>1</td>\n",
       "      <td>4</td>\n",
       "      <td>General Petite</td>\n",
       "      <td>Tops</td>\n",
       "      <td>Knits</td>\n",
       "    </tr>\n",
       "    <tr>\n",
       "      <th>8</th>\n",
       "      <td>1077</td>\n",
       "      <td>24</td>\n",
       "      <td>Flattering</td>\n",
       "      <td>I love this dress. i usually get an xs but it ...</td>\n",
       "      <td>5</td>\n",
       "      <td>1</td>\n",
       "      <td>0</td>\n",
       "      <td>General</td>\n",
       "      <td>Dresses</td>\n",
       "      <td>Dresses</td>\n",
       "    </tr>\n",
       "    <tr>\n",
       "      <th>9</th>\n",
       "      <td>1077</td>\n",
       "      <td>34</td>\n",
       "      <td>Such a fun dress!</td>\n",
       "      <td>I'm 5\"5' and 125 lbs. i ordered the s petite t...</td>\n",
       "      <td>5</td>\n",
       "      <td>1</td>\n",
       "      <td>0</td>\n",
       "      <td>General</td>\n",
       "      <td>Dresses</td>\n",
       "      <td>Dresses</td>\n",
       "    </tr>\n",
       "    <tr>\n",
       "      <th>10</th>\n",
       "      <td>1077</td>\n",
       "      <td>53</td>\n",
       "      <td>Dress looks like it's made of cheap material</td>\n",
       "      <td>Dress runs small esp where the zipper area run...</td>\n",
       "      <td>3</td>\n",
       "      <td>0</td>\n",
       "      <td>14</td>\n",
       "      <td>General</td>\n",
       "      <td>Dresses</td>\n",
       "      <td>Dresses</td>\n",
       "    </tr>\n",
       "    <tr>\n",
       "      <th>11</th>\n",
       "      <td>1095</td>\n",
       "      <td>39</td>\n",
       "      <td>NaN</td>\n",
       "      <td>This dress is perfection! so pretty and flatte...</td>\n",
       "      <td>5</td>\n",
       "      <td>1</td>\n",
       "      <td>2</td>\n",
       "      <td>General Petite</td>\n",
       "      <td>Dresses</td>\n",
       "      <td>Dresses</td>\n",
       "    </tr>\n",
       "    <tr>\n",
       "      <th>12</th>\n",
       "      <td>1095</td>\n",
       "      <td>53</td>\n",
       "      <td>Perfect!!!</td>\n",
       "      <td>More and more i find myself reliant on the rev...</td>\n",
       "      <td>5</td>\n",
       "      <td>1</td>\n",
       "      <td>2</td>\n",
       "      <td>General Petite</td>\n",
       "      <td>Dresses</td>\n",
       "      <td>Dresses</td>\n",
       "    </tr>\n",
       "    <tr>\n",
       "      <th>13</th>\n",
       "      <td>767</td>\n",
       "      <td>44</td>\n",
       "      <td>Runs big</td>\n",
       "      <td>Bought the black xs to go under the larkspur m...</td>\n",
       "      <td>5</td>\n",
       "      <td>1</td>\n",
       "      <td>0</td>\n",
       "      <td>Initmates</td>\n",
       "      <td>Intimate</td>\n",
       "      <td>Intimates</td>\n",
       "    </tr>\n",
       "    <tr>\n",
       "      <th>14</th>\n",
       "      <td>1077</td>\n",
       "      <td>50</td>\n",
       "      <td>Pretty party dress with some issues</td>\n",
       "      <td>This is a nice choice for holiday gatherings. ...</td>\n",
       "      <td>3</td>\n",
       "      <td>1</td>\n",
       "      <td>1</td>\n",
       "      <td>General</td>\n",
       "      <td>Dresses</td>\n",
       "      <td>Dresses</td>\n",
       "    </tr>\n",
       "    <tr>\n",
       "      <th>15</th>\n",
       "      <td>1065</td>\n",
       "      <td>47</td>\n",
       "      <td>Nice, but not for my body</td>\n",
       "      <td>I took these out of the package and wanted the...</td>\n",
       "      <td>4</td>\n",
       "      <td>1</td>\n",
       "      <td>3</td>\n",
       "      <td>General</td>\n",
       "      <td>Bottoms</td>\n",
       "      <td>Pants</td>\n",
       "    </tr>\n",
       "    <tr>\n",
       "      <th>16</th>\n",
       "      <td>1065</td>\n",
       "      <td>34</td>\n",
       "      <td>You need to be at least average height, or taller</td>\n",
       "      <td>Material and color is nice.  the leg opening i...</td>\n",
       "      <td>3</td>\n",
       "      <td>1</td>\n",
       "      <td>2</td>\n",
       "      <td>General</td>\n",
       "      <td>Bottoms</td>\n",
       "      <td>Pants</td>\n",
       "    </tr>\n",
       "    <tr>\n",
       "      <th>17</th>\n",
       "      <td>853</td>\n",
       "      <td>41</td>\n",
       "      <td>Looks great with white pants</td>\n",
       "      <td>Took a chance on this blouse and so glad i did...</td>\n",
       "      <td>5</td>\n",
       "      <td>1</td>\n",
       "      <td>0</td>\n",
       "      <td>General</td>\n",
       "      <td>Tops</td>\n",
       "      <td>Blouses</td>\n",
       "    </tr>\n",
       "    <tr>\n",
       "      <th>18</th>\n",
       "      <td>1120</td>\n",
       "      <td>32</td>\n",
       "      <td>Super cute and cozy</td>\n",
       "      <td>A flattering, super cozy coat.  will work well...</td>\n",
       "      <td>5</td>\n",
       "      <td>1</td>\n",
       "      <td>0</td>\n",
       "      <td>General</td>\n",
       "      <td>Jackets</td>\n",
       "      <td>Outerwear</td>\n",
       "    </tr>\n",
       "    <tr>\n",
       "      <th>19</th>\n",
       "      <td>1077</td>\n",
       "      <td>47</td>\n",
       "      <td>Stylish and comfortable</td>\n",
       "      <td>I love the look and feel of this tulle dress. ...</td>\n",
       "      <td>5</td>\n",
       "      <td>1</td>\n",
       "      <td>0</td>\n",
       "      <td>General</td>\n",
       "      <td>Dresses</td>\n",
       "      <td>Dresses</td>\n",
       "    </tr>\n",
       "    <tr>\n",
       "      <th>20</th>\n",
       "      <td>847</td>\n",
       "      <td>33</td>\n",
       "      <td>Cute, crisp shirt</td>\n",
       "      <td>If this product was in petite, i would get the...</td>\n",
       "      <td>4</td>\n",
       "      <td>1</td>\n",
       "      <td>2</td>\n",
       "      <td>General</td>\n",
       "      <td>Tops</td>\n",
       "      <td>Blouses</td>\n",
       "    </tr>\n",
       "    <tr>\n",
       "      <th>21</th>\n",
       "      <td>1080</td>\n",
       "      <td>55</td>\n",
       "      <td>I'm torn!</td>\n",
       "      <td>I'm upset because for the price of the dress, ...</td>\n",
       "      <td>4</td>\n",
       "      <td>1</td>\n",
       "      <td>14</td>\n",
       "      <td>General</td>\n",
       "      <td>Dresses</td>\n",
       "      <td>Dresses</td>\n",
       "    </tr>\n",
       "    <tr>\n",
       "      <th>22</th>\n",
       "      <td>1077</td>\n",
       "      <td>31</td>\n",
       "      <td>Not what it looks like</td>\n",
       "      <td>First of all, this is not pullover styling. th...</td>\n",
       "      <td>2</td>\n",
       "      <td>0</td>\n",
       "      <td>7</td>\n",
       "      <td>General</td>\n",
       "      <td>Dresses</td>\n",
       "      <td>Dresses</td>\n",
       "    </tr>\n",
       "    <tr>\n",
       "      <th>23</th>\n",
       "      <td>1077</td>\n",
       "      <td>34</td>\n",
       "      <td>Like it, but don't love it.</td>\n",
       "      <td>Cute little dress fits tts. it is a little hig...</td>\n",
       "      <td>3</td>\n",
       "      <td>1</td>\n",
       "      <td>0</td>\n",
       "      <td>General</td>\n",
       "      <td>Dresses</td>\n",
       "      <td>Dresses</td>\n",
       "    </tr>\n",
       "    <tr>\n",
       "      <th>24</th>\n",
       "      <td>847</td>\n",
       "      <td>55</td>\n",
       "      <td>Versatile</td>\n",
       "      <td>I love this shirt because when i first saw it,...</td>\n",
       "      <td>5</td>\n",
       "      <td>1</td>\n",
       "      <td>0</td>\n",
       "      <td>General</td>\n",
       "      <td>Tops</td>\n",
       "      <td>Blouses</td>\n",
       "    </tr>\n",
       "    <tr>\n",
       "      <th>25</th>\n",
       "      <td>697</td>\n",
       "      <td>31</td>\n",
       "      <td>Falls flat</td>\n",
       "      <td>Loved the material, but i didnt really look at...</td>\n",
       "      <td>3</td>\n",
       "      <td>0</td>\n",
       "      <td>0</td>\n",
       "      <td>Initmates</td>\n",
       "      <td>Intimate</td>\n",
       "      <td>Lounge</td>\n",
       "    </tr>\n",
       "    <tr>\n",
       "      <th>26</th>\n",
       "      <td>949</td>\n",
       "      <td>33</td>\n",
       "      <td>Huge disappointment</td>\n",
       "      <td>I have been waiting for this sweater coat to s...</td>\n",
       "      <td>2</td>\n",
       "      <td>0</td>\n",
       "      <td>0</td>\n",
       "      <td>General</td>\n",
       "      <td>Tops</td>\n",
       "      <td>Sweaters</td>\n",
       "    </tr>\n",
       "    <tr>\n",
       "      <th>27</th>\n",
       "      <td>1003</td>\n",
       "      <td>31</td>\n",
       "      <td>Loved, but returned</td>\n",
       "      <td>The colors weren't what i expected either. the...</td>\n",
       "      <td>4</td>\n",
       "      <td>1</td>\n",
       "      <td>0</td>\n",
       "      <td>General</td>\n",
       "      <td>Bottoms</td>\n",
       "      <td>Skirts</td>\n",
       "    </tr>\n",
       "    <tr>\n",
       "      <th>28</th>\n",
       "      <td>684</td>\n",
       "      <td>53</td>\n",
       "      <td>Great shirt!!!</td>\n",
       "      <td>I have several of goodhyouman shirts and i get...</td>\n",
       "      <td>5</td>\n",
       "      <td>1</td>\n",
       "      <td>2</td>\n",
       "      <td>Initmates</td>\n",
       "      <td>Intimate</td>\n",
       "      <td>Lounge</td>\n",
       "    </tr>\n",
       "    <tr>\n",
       "      <th>29</th>\n",
       "      <td>4</td>\n",
       "      <td>28</td>\n",
       "      <td>Great layering piece</td>\n",
       "      <td>This sweater is so comfy and classic - it bala...</td>\n",
       "      <td>5</td>\n",
       "      <td>1</td>\n",
       "      <td>0</td>\n",
       "      <td>General</td>\n",
       "      <td>Tops</td>\n",
       "      <td>Sweaters</td>\n",
       "    </tr>\n",
       "    <tr>\n",
       "      <th>...</th>\n",
       "      <td>...</td>\n",
       "      <td>...</td>\n",
       "      <td>...</td>\n",
       "      <td>...</td>\n",
       "      <td>...</td>\n",
       "      <td>...</td>\n",
       "      <td>...</td>\n",
       "      <td>...</td>\n",
       "      <td>...</td>\n",
       "      <td>...</td>\n",
       "    </tr>\n",
       "    <tr>\n",
       "      <th>23456</th>\n",
       "      <td>1104</td>\n",
       "      <td>35</td>\n",
       "      <td>Flattering and lovely sweater dress</td>\n",
       "      <td>I have been on a search for a dress with sleev...</td>\n",
       "      <td>5</td>\n",
       "      <td>1</td>\n",
       "      <td>3</td>\n",
       "      <td>General Petite</td>\n",
       "      <td>Dresses</td>\n",
       "      <td>Dresses</td>\n",
       "    </tr>\n",
       "    <tr>\n",
       "      <th>23457</th>\n",
       "      <td>262</td>\n",
       "      <td>49</td>\n",
       "      <td>Adorable</td>\n",
       "      <td>These pants are soft, fun print and comfy. the...</td>\n",
       "      <td>5</td>\n",
       "      <td>1</td>\n",
       "      <td>3</td>\n",
       "      <td>General Petite</td>\n",
       "      <td>Intimate</td>\n",
       "      <td>Lounge</td>\n",
       "    </tr>\n",
       "    <tr>\n",
       "      <th>23458</th>\n",
       "      <td>862</td>\n",
       "      <td>63</td>\n",
       "      <td>NaN</td>\n",
       "      <td>This is my new favorite sweater. it is lightwe...</td>\n",
       "      <td>5</td>\n",
       "      <td>1</td>\n",
       "      <td>0</td>\n",
       "      <td>General Petite</td>\n",
       "      <td>Tops</td>\n",
       "      <td>Knits</td>\n",
       "    </tr>\n",
       "    <tr>\n",
       "      <th>23459</th>\n",
       "      <td>1094</td>\n",
       "      <td>57</td>\n",
       "      <td>Perfect except slip</td>\n",
       "      <td>This is my new favorite dress! my only complai...</td>\n",
       "      <td>4</td>\n",
       "      <td>1</td>\n",
       "      <td>3</td>\n",
       "      <td>General Petite</td>\n",
       "      <td>Dresses</td>\n",
       "      <td>Dresses</td>\n",
       "    </tr>\n",
       "    <tr>\n",
       "      <th>23460</th>\n",
       "      <td>1078</td>\n",
       "      <td>34</td>\n",
       "      <td>Such high hopes!</td>\n",
       "      <td>I purchased this for a very good price and i t...</td>\n",
       "      <td>3</td>\n",
       "      <td>0</td>\n",
       "      <td>0</td>\n",
       "      <td>General</td>\n",
       "      <td>Dresses</td>\n",
       "      <td>Dresses</td>\n",
       "    </tr>\n",
       "    <tr>\n",
       "      <th>23461</th>\n",
       "      <td>262</td>\n",
       "      <td>49</td>\n",
       "      <td>Comfortable but not super-flattering on me</td>\n",
       "      <td>I tried these on at the store and the fit was ...</td>\n",
       "      <td>4</td>\n",
       "      <td>1</td>\n",
       "      <td>1</td>\n",
       "      <td>General Petite</td>\n",
       "      <td>Intimate</td>\n",
       "      <td>Lounge</td>\n",
       "    </tr>\n",
       "    <tr>\n",
       "      <th>23462</th>\n",
       "      <td>999</td>\n",
       "      <td>24</td>\n",
       "      <td>Its okay</td>\n",
       "      <td>The pattern of this skirt is adorable and look...</td>\n",
       "      <td>3</td>\n",
       "      <td>1</td>\n",
       "      <td>0</td>\n",
       "      <td>General</td>\n",
       "      <td>Bottoms</td>\n",
       "      <td>Skirts</td>\n",
       "    </tr>\n",
       "    <tr>\n",
       "      <th>23463</th>\n",
       "      <td>262</td>\n",
       "      <td>65</td>\n",
       "      <td>Comfy pants</td>\n",
       "      <td>These pants overall are very comfortable, but ...</td>\n",
       "      <td>4</td>\n",
       "      <td>1</td>\n",
       "      <td>1</td>\n",
       "      <td>General Petite</td>\n",
       "      <td>Intimate</td>\n",
       "      <td>Lounge</td>\n",
       "    </tr>\n",
       "    <tr>\n",
       "      <th>23464</th>\n",
       "      <td>1104</td>\n",
       "      <td>42</td>\n",
       "      <td>Compliments</td>\n",
       "      <td>I wore this dress to work the other day and go...</td>\n",
       "      <td>5</td>\n",
       "      <td>1</td>\n",
       "      <td>3</td>\n",
       "      <td>General Petite</td>\n",
       "      <td>Dresses</td>\n",
       "      <td>Dresses</td>\n",
       "    </tr>\n",
       "    <tr>\n",
       "      <th>23465</th>\n",
       "      <td>1078</td>\n",
       "      <td>41</td>\n",
       "      <td>Falls nicely</td>\n",
       "      <td>I bought this dress for work and post work hap...</td>\n",
       "      <td>5</td>\n",
       "      <td>1</td>\n",
       "      <td>0</td>\n",
       "      <td>General</td>\n",
       "      <td>Dresses</td>\n",
       "      <td>Dresses</td>\n",
       "    </tr>\n",
       "    <tr>\n",
       "      <th>23466</th>\n",
       "      <td>1104</td>\n",
       "      <td>34</td>\n",
       "      <td>Cute and comfy</td>\n",
       "      <td>This dress has a great design and fits very we...</td>\n",
       "      <td>4</td>\n",
       "      <td>1</td>\n",
       "      <td>0</td>\n",
       "      <td>General Petite</td>\n",
       "      <td>Dresses</td>\n",
       "      <td>Dresses</td>\n",
       "    </tr>\n",
       "    <tr>\n",
       "      <th>23467</th>\n",
       "      <td>1104</td>\n",
       "      <td>60</td>\n",
       "      <td>Super flattering!</td>\n",
       "      <td>I worry when i have an elastic waist, or somet...</td>\n",
       "      <td>5</td>\n",
       "      <td>1</td>\n",
       "      <td>23</td>\n",
       "      <td>General Petite</td>\n",
       "      <td>Dresses</td>\n",
       "      <td>Dresses</td>\n",
       "    </tr>\n",
       "    <tr>\n",
       "      <th>23468</th>\n",
       "      <td>721</td>\n",
       "      <td>35</td>\n",
       "      <td>Sweet stripes</td>\n",
       "      <td>I love this little chemise! the adjustable str...</td>\n",
       "      <td>5</td>\n",
       "      <td>1</td>\n",
       "      <td>3</td>\n",
       "      <td>General Petite</td>\n",
       "      <td>Intimate</td>\n",
       "      <td>Lounge</td>\n",
       "    </tr>\n",
       "    <tr>\n",
       "      <th>23469</th>\n",
       "      <td>262</td>\n",
       "      <td>50</td>\n",
       "      <td>Comfy and cute</td>\n",
       "      <td>My size was not available so based on reviews ...</td>\n",
       "      <td>4</td>\n",
       "      <td>1</td>\n",
       "      <td>0</td>\n",
       "      <td>General Petite</td>\n",
       "      <td>Intimate</td>\n",
       "      <td>Lounge</td>\n",
       "    </tr>\n",
       "    <tr>\n",
       "      <th>23470</th>\n",
       "      <td>1104</td>\n",
       "      <td>39</td>\n",
       "      <td>NaN</td>\n",
       "      <td>NaN</td>\n",
       "      <td>5</td>\n",
       "      <td>1</td>\n",
       "      <td>0</td>\n",
       "      <td>General Petite</td>\n",
       "      <td>Dresses</td>\n",
       "      <td>Dresses</td>\n",
       "    </tr>\n",
       "    <tr>\n",
       "      <th>23471</th>\n",
       "      <td>262</td>\n",
       "      <td>31</td>\n",
       "      <td>Awkward fit for me</td>\n",
       "      <td>Love the way these pants look in the pictures,...</td>\n",
       "      <td>4</td>\n",
       "      <td>1</td>\n",
       "      <td>0</td>\n",
       "      <td>General Petite</td>\n",
       "      <td>Intimate</td>\n",
       "      <td>Lounge</td>\n",
       "    </tr>\n",
       "    <tr>\n",
       "      <th>23472</th>\n",
       "      <td>855</td>\n",
       "      <td>32</td>\n",
       "      <td>Perfectly drapey</td>\n",
       "      <td>I saw the shirt on the retailer website and ne...</td>\n",
       "      <td>5</td>\n",
       "      <td>1</td>\n",
       "      <td>0</td>\n",
       "      <td>General</td>\n",
       "      <td>Tops</td>\n",
       "      <td>Knits</td>\n",
       "    </tr>\n",
       "    <tr>\n",
       "      <th>23473</th>\n",
       "      <td>1104</td>\n",
       "      <td>29</td>\n",
       "      <td>Perfect dress</td>\n",
       "      <td>Great quality and extremely flattering. bonus ...</td>\n",
       "      <td>5</td>\n",
       "      <td>1</td>\n",
       "      <td>1</td>\n",
       "      <td>General Petite</td>\n",
       "      <td>Dresses</td>\n",
       "      <td>Dresses</td>\n",
       "    </tr>\n",
       "    <tr>\n",
       "      <th>23474</th>\n",
       "      <td>1104</td>\n",
       "      <td>32</td>\n",
       "      <td>Much better in person!</td>\n",
       "      <td>Yes, this is a great dress! i wasn't sure abou...</td>\n",
       "      <td>5</td>\n",
       "      <td>1</td>\n",
       "      <td>0</td>\n",
       "      <td>General Petite</td>\n",
       "      <td>Dresses</td>\n",
       "      <td>Dresses</td>\n",
       "    </tr>\n",
       "    <tr>\n",
       "      <th>23475</th>\n",
       "      <td>1104</td>\n",
       "      <td>41</td>\n",
       "      <td>Cute dress</td>\n",
       "      <td>Cute dress but not for me.  the waist is too h...</td>\n",
       "      <td>3</td>\n",
       "      <td>1</td>\n",
       "      <td>0</td>\n",
       "      <td>General Petite</td>\n",
       "      <td>Dresses</td>\n",
       "      <td>Dresses</td>\n",
       "    </tr>\n",
       "    <tr>\n",
       "      <th>23476</th>\n",
       "      <td>522</td>\n",
       "      <td>27</td>\n",
       "      <td>Cheeky!</td>\n",
       "      <td>These bottoms are very cute but defiantly chee...</td>\n",
       "      <td>4</td>\n",
       "      <td>1</td>\n",
       "      <td>0</td>\n",
       "      <td>Initmates</td>\n",
       "      <td>Intimate</td>\n",
       "      <td>Swim</td>\n",
       "    </tr>\n",
       "    <tr>\n",
       "      <th>23477</th>\n",
       "      <td>1094</td>\n",
       "      <td>39</td>\n",
       "      <td>Entrancing</td>\n",
       "      <td>I'm so impressed with the beautiful color comb...</td>\n",
       "      <td>4</td>\n",
       "      <td>1</td>\n",
       "      <td>5</td>\n",
       "      <td>General Petite</td>\n",
       "      <td>Dresses</td>\n",
       "      <td>Dresses</td>\n",
       "    </tr>\n",
       "    <tr>\n",
       "      <th>23478</th>\n",
       "      <td>1104</td>\n",
       "      <td>32</td>\n",
       "      <td>Unflattering</td>\n",
       "      <td>I was surprised at the positive reviews for th...</td>\n",
       "      <td>1</td>\n",
       "      <td>0</td>\n",
       "      <td>0</td>\n",
       "      <td>General Petite</td>\n",
       "      <td>Dresses</td>\n",
       "      <td>Dresses</td>\n",
       "    </tr>\n",
       "    <tr>\n",
       "      <th>23479</th>\n",
       "      <td>1005</td>\n",
       "      <td>42</td>\n",
       "      <td>What a fun piece!</td>\n",
       "      <td>So i wasn't sure about ordering this skirt bec...</td>\n",
       "      <td>5</td>\n",
       "      <td>1</td>\n",
       "      <td>0</td>\n",
       "      <td>General Petite</td>\n",
       "      <td>Bottoms</td>\n",
       "      <td>Skirts</td>\n",
       "    </tr>\n",
       "    <tr>\n",
       "      <th>23480</th>\n",
       "      <td>862</td>\n",
       "      <td>35</td>\n",
       "      <td>NaN</td>\n",
       "      <td>NaN</td>\n",
       "      <td>5</td>\n",
       "      <td>1</td>\n",
       "      <td>0</td>\n",
       "      <td>General Petite</td>\n",
       "      <td>Tops</td>\n",
       "      <td>Knits</td>\n",
       "    </tr>\n",
       "    <tr>\n",
       "      <th>23481</th>\n",
       "      <td>1104</td>\n",
       "      <td>34</td>\n",
       "      <td>Great dress for many occasions</td>\n",
       "      <td>I was very happy to snag this dress at such a ...</td>\n",
       "      <td>5</td>\n",
       "      <td>1</td>\n",
       "      <td>0</td>\n",
       "      <td>General Petite</td>\n",
       "      <td>Dresses</td>\n",
       "      <td>Dresses</td>\n",
       "    </tr>\n",
       "    <tr>\n",
       "      <th>23482</th>\n",
       "      <td>862</td>\n",
       "      <td>48</td>\n",
       "      <td>Wish it was made of cotton</td>\n",
       "      <td>It reminds me of maternity clothes. soft, stre...</td>\n",
       "      <td>3</td>\n",
       "      <td>1</td>\n",
       "      <td>0</td>\n",
       "      <td>General Petite</td>\n",
       "      <td>Tops</td>\n",
       "      <td>Knits</td>\n",
       "    </tr>\n",
       "    <tr>\n",
       "      <th>23483</th>\n",
       "      <td>1104</td>\n",
       "      <td>31</td>\n",
       "      <td>Cute, but see through</td>\n",
       "      <td>This fit well, but the top was very see throug...</td>\n",
       "      <td>3</td>\n",
       "      <td>0</td>\n",
       "      <td>1</td>\n",
       "      <td>General Petite</td>\n",
       "      <td>Dresses</td>\n",
       "      <td>Dresses</td>\n",
       "    </tr>\n",
       "    <tr>\n",
       "      <th>23484</th>\n",
       "      <td>1084</td>\n",
       "      <td>28</td>\n",
       "      <td>Very cute dress, perfect for summer parties an...</td>\n",
       "      <td>I bought this dress for a wedding i have this ...</td>\n",
       "      <td>3</td>\n",
       "      <td>1</td>\n",
       "      <td>2</td>\n",
       "      <td>General</td>\n",
       "      <td>Dresses</td>\n",
       "      <td>Dresses</td>\n",
       "    </tr>\n",
       "    <tr>\n",
       "      <th>23485</th>\n",
       "      <td>1104</td>\n",
       "      <td>52</td>\n",
       "      <td>Please make more like this one!</td>\n",
       "      <td>This dress in a lovely platinum is feminine an...</td>\n",
       "      <td>5</td>\n",
       "      <td>1</td>\n",
       "      <td>22</td>\n",
       "      <td>General Petite</td>\n",
       "      <td>Dresses</td>\n",
       "      <td>Dresses</td>\n",
       "    </tr>\n",
       "  </tbody>\n",
       "</table>\n",
       "<p>23486 rows × 10 columns</p>\n",
       "</div>"
      ],
      "text/plain": [
       "       Clothing ID  Age                                              Title  \\\n",
       "0              767   33                                                NaN   \n",
       "1             1080   34                                                NaN   \n",
       "2             1077   60                            Some major design flaws   \n",
       "3             1049   50                                   My favorite buy!   \n",
       "4              847   47                                   Flattering shirt   \n",
       "5             1080   49                            Not for the very petite   \n",
       "6              858   39                               Cagrcoal shimmer fun   \n",
       "7              858   39               Shimmer, surprisingly goes with lots   \n",
       "8             1077   24                                         Flattering   \n",
       "9             1077   34                                  Such a fun dress!   \n",
       "10            1077   53       Dress looks like it's made of cheap material   \n",
       "11            1095   39                                                NaN   \n",
       "12            1095   53                                         Perfect!!!   \n",
       "13             767   44                                           Runs big   \n",
       "14            1077   50                Pretty party dress with some issues   \n",
       "15            1065   47                          Nice, but not for my body   \n",
       "16            1065   34  You need to be at least average height, or taller   \n",
       "17             853   41                       Looks great with white pants   \n",
       "18            1120   32                                Super cute and cozy   \n",
       "19            1077   47                            Stylish and comfortable   \n",
       "20             847   33                                  Cute, crisp shirt   \n",
       "21            1080   55                                          I'm torn!   \n",
       "22            1077   31                             Not what it looks like   \n",
       "23            1077   34                        Like it, but don't love it.   \n",
       "24             847   55                                          Versatile   \n",
       "25             697   31                                         Falls flat   \n",
       "26             949   33                                Huge disappointment   \n",
       "27            1003   31                                Loved, but returned   \n",
       "28             684   53                                     Great shirt!!!   \n",
       "29               4   28                               Great layering piece   \n",
       "...            ...  ...                                                ...   \n",
       "23456         1104   35                Flattering and lovely sweater dress   \n",
       "23457          262   49                                           Adorable   \n",
       "23458          862   63                                                NaN   \n",
       "23459         1094   57                                Perfect except slip   \n",
       "23460         1078   34                                   Such high hopes!   \n",
       "23461          262   49         Comfortable but not super-flattering on me   \n",
       "23462          999   24                                           Its okay   \n",
       "23463          262   65                                        Comfy pants   \n",
       "23464         1104   42                                        Compliments   \n",
       "23465         1078   41                                       Falls nicely   \n",
       "23466         1104   34                                     Cute and comfy   \n",
       "23467         1104   60                                  Super flattering!   \n",
       "23468          721   35                                      Sweet stripes   \n",
       "23469          262   50                                     Comfy and cute   \n",
       "23470         1104   39                                                NaN   \n",
       "23471          262   31                                 Awkward fit for me   \n",
       "23472          855   32                                   Perfectly drapey   \n",
       "23473         1104   29                                      Perfect dress   \n",
       "23474         1104   32                             Much better in person!   \n",
       "23475         1104   41                                         Cute dress   \n",
       "23476          522   27                                            Cheeky!   \n",
       "23477         1094   39                                         Entrancing   \n",
       "23478         1104   32                                       Unflattering   \n",
       "23479         1005   42                                  What a fun piece!   \n",
       "23480          862   35                                                NaN   \n",
       "23481         1104   34                     Great dress for many occasions   \n",
       "23482          862   48                         Wish it was made of cotton   \n",
       "23483         1104   31                              Cute, but see through   \n",
       "23484         1084   28  Very cute dress, perfect for summer parties an...   \n",
       "23485         1104   52                    Please make more like this one!   \n",
       "\n",
       "                                             Review Text  Rating  \\\n",
       "0      Absolutely wonderful - silky and sexy and comf...       4   \n",
       "1      Love this dress!  it's sooo pretty.  i happene...       5   \n",
       "2      I had such high hopes for this dress and reall...       3   \n",
       "3      I love, love, love this jumpsuit. it's fun, fl...       5   \n",
       "4      This shirt is very flattering to all due to th...       5   \n",
       "5      I love tracy reese dresses, but this one is no...       2   \n",
       "6      I aded this in my basket at hte last mintue to...       5   \n",
       "7      I ordered this in carbon for store pick up, an...       4   \n",
       "8      I love this dress. i usually get an xs but it ...       5   \n",
       "9      I'm 5\"5' and 125 lbs. i ordered the s petite t...       5   \n",
       "10     Dress runs small esp where the zipper area run...       3   \n",
       "11     This dress is perfection! so pretty and flatte...       5   \n",
       "12     More and more i find myself reliant on the rev...       5   \n",
       "13     Bought the black xs to go under the larkspur m...       5   \n",
       "14     This is a nice choice for holiday gatherings. ...       3   \n",
       "15     I took these out of the package and wanted the...       4   \n",
       "16     Material and color is nice.  the leg opening i...       3   \n",
       "17     Took a chance on this blouse and so glad i did...       5   \n",
       "18     A flattering, super cozy coat.  will work well...       5   \n",
       "19     I love the look and feel of this tulle dress. ...       5   \n",
       "20     If this product was in petite, i would get the...       4   \n",
       "21     I'm upset because for the price of the dress, ...       4   \n",
       "22     First of all, this is not pullover styling. th...       2   \n",
       "23     Cute little dress fits tts. it is a little hig...       3   \n",
       "24     I love this shirt because when i first saw it,...       5   \n",
       "25     Loved the material, but i didnt really look at...       3   \n",
       "26     I have been waiting for this sweater coat to s...       2   \n",
       "27     The colors weren't what i expected either. the...       4   \n",
       "28     I have several of goodhyouman shirts and i get...       5   \n",
       "29     This sweater is so comfy and classic - it bala...       5   \n",
       "...                                                  ...     ...   \n",
       "23456  I have been on a search for a dress with sleev...       5   \n",
       "23457  These pants are soft, fun print and comfy. the...       5   \n",
       "23458  This is my new favorite sweater. it is lightwe...       5   \n",
       "23459  This is my new favorite dress! my only complai...       4   \n",
       "23460  I purchased this for a very good price and i t...       3   \n",
       "23461  I tried these on at the store and the fit was ...       4   \n",
       "23462  The pattern of this skirt is adorable and look...       3   \n",
       "23463  These pants overall are very comfortable, but ...       4   \n",
       "23464  I wore this dress to work the other day and go...       5   \n",
       "23465  I bought this dress for work and post work hap...       5   \n",
       "23466  This dress has a great design and fits very we...       4   \n",
       "23467  I worry when i have an elastic waist, or somet...       5   \n",
       "23468  I love this little chemise! the adjustable str...       5   \n",
       "23469  My size was not available so based on reviews ...       4   \n",
       "23470                                                NaN       5   \n",
       "23471  Love the way these pants look in the pictures,...       4   \n",
       "23472  I saw the shirt on the retailer website and ne...       5   \n",
       "23473  Great quality and extremely flattering. bonus ...       5   \n",
       "23474  Yes, this is a great dress! i wasn't sure abou...       5   \n",
       "23475  Cute dress but not for me.  the waist is too h...       3   \n",
       "23476  These bottoms are very cute but defiantly chee...       4   \n",
       "23477  I'm so impressed with the beautiful color comb...       4   \n",
       "23478  I was surprised at the positive reviews for th...       1   \n",
       "23479  So i wasn't sure about ordering this skirt bec...       5   \n",
       "23480                                                NaN       5   \n",
       "23481  I was very happy to snag this dress at such a ...       5   \n",
       "23482  It reminds me of maternity clothes. soft, stre...       3   \n",
       "23483  This fit well, but the top was very see throug...       3   \n",
       "23484  I bought this dress for a wedding i have this ...       3   \n",
       "23485  This dress in a lovely platinum is feminine an...       5   \n",
       "\n",
       "       Recommended IND  Positive Feedback Count   Division Name  \\\n",
       "0                    1                        0       Initmates   \n",
       "1                    1                        4         General   \n",
       "2                    0                        0         General   \n",
       "3                    1                        0  General Petite   \n",
       "4                    1                        6         General   \n",
       "5                    0                        4         General   \n",
       "6                    1                        1  General Petite   \n",
       "7                    1                        4  General Petite   \n",
       "8                    1                        0         General   \n",
       "9                    1                        0         General   \n",
       "10                   0                       14         General   \n",
       "11                   1                        2  General Petite   \n",
       "12                   1                        2  General Petite   \n",
       "13                   1                        0       Initmates   \n",
       "14                   1                        1         General   \n",
       "15                   1                        3         General   \n",
       "16                   1                        2         General   \n",
       "17                   1                        0         General   \n",
       "18                   1                        0         General   \n",
       "19                   1                        0         General   \n",
       "20                   1                        2         General   \n",
       "21                   1                       14         General   \n",
       "22                   0                        7         General   \n",
       "23                   1                        0         General   \n",
       "24                   1                        0         General   \n",
       "25                   0                        0       Initmates   \n",
       "26                   0                        0         General   \n",
       "27                   1                        0         General   \n",
       "28                   1                        2       Initmates   \n",
       "29                   1                        0         General   \n",
       "...                ...                      ...             ...   \n",
       "23456                1                        3  General Petite   \n",
       "23457                1                        3  General Petite   \n",
       "23458                1                        0  General Petite   \n",
       "23459                1                        3  General Petite   \n",
       "23460                0                        0         General   \n",
       "23461                1                        1  General Petite   \n",
       "23462                1                        0         General   \n",
       "23463                1                        1  General Petite   \n",
       "23464                1                        3  General Petite   \n",
       "23465                1                        0         General   \n",
       "23466                1                        0  General Petite   \n",
       "23467                1                       23  General Petite   \n",
       "23468                1                        3  General Petite   \n",
       "23469                1                        0  General Petite   \n",
       "23470                1                        0  General Petite   \n",
       "23471                1                        0  General Petite   \n",
       "23472                1                        0         General   \n",
       "23473                1                        1  General Petite   \n",
       "23474                1                        0  General Petite   \n",
       "23475                1                        0  General Petite   \n",
       "23476                1                        0       Initmates   \n",
       "23477                1                        5  General Petite   \n",
       "23478                0                        0  General Petite   \n",
       "23479                1                        0  General Petite   \n",
       "23480                1                        0  General Petite   \n",
       "23481                1                        0  General Petite   \n",
       "23482                1                        0  General Petite   \n",
       "23483                0                        1  General Petite   \n",
       "23484                1                        2         General   \n",
       "23485                1                       22  General Petite   \n",
       "\n",
       "      Department Name Class Name  \n",
       "0            Intimate  Intimates  \n",
       "1             Dresses    Dresses  \n",
       "2             Dresses    Dresses  \n",
       "3             Bottoms      Pants  \n",
       "4                Tops    Blouses  \n",
       "5             Dresses    Dresses  \n",
       "6                Tops      Knits  \n",
       "7                Tops      Knits  \n",
       "8             Dresses    Dresses  \n",
       "9             Dresses    Dresses  \n",
       "10            Dresses    Dresses  \n",
       "11            Dresses    Dresses  \n",
       "12            Dresses    Dresses  \n",
       "13           Intimate  Intimates  \n",
       "14            Dresses    Dresses  \n",
       "15            Bottoms      Pants  \n",
       "16            Bottoms      Pants  \n",
       "17               Tops    Blouses  \n",
       "18            Jackets  Outerwear  \n",
       "19            Dresses    Dresses  \n",
       "20               Tops    Blouses  \n",
       "21            Dresses    Dresses  \n",
       "22            Dresses    Dresses  \n",
       "23            Dresses    Dresses  \n",
       "24               Tops    Blouses  \n",
       "25           Intimate     Lounge  \n",
       "26               Tops   Sweaters  \n",
       "27            Bottoms     Skirts  \n",
       "28           Intimate     Lounge  \n",
       "29               Tops   Sweaters  \n",
       "...               ...        ...  \n",
       "23456         Dresses    Dresses  \n",
       "23457        Intimate     Lounge  \n",
       "23458            Tops      Knits  \n",
       "23459         Dresses    Dresses  \n",
       "23460         Dresses    Dresses  \n",
       "23461        Intimate     Lounge  \n",
       "23462         Bottoms     Skirts  \n",
       "23463        Intimate     Lounge  \n",
       "23464         Dresses    Dresses  \n",
       "23465         Dresses    Dresses  \n",
       "23466         Dresses    Dresses  \n",
       "23467         Dresses    Dresses  \n",
       "23468        Intimate     Lounge  \n",
       "23469        Intimate     Lounge  \n",
       "23470         Dresses    Dresses  \n",
       "23471        Intimate     Lounge  \n",
       "23472            Tops      Knits  \n",
       "23473         Dresses    Dresses  \n",
       "23474         Dresses    Dresses  \n",
       "23475         Dresses    Dresses  \n",
       "23476        Intimate       Swim  \n",
       "23477         Dresses    Dresses  \n",
       "23478         Dresses    Dresses  \n",
       "23479         Bottoms     Skirts  \n",
       "23480            Tops      Knits  \n",
       "23481         Dresses    Dresses  \n",
       "23482            Tops      Knits  \n",
       "23483         Dresses    Dresses  \n",
       "23484         Dresses    Dresses  \n",
       "23485         Dresses    Dresses  \n",
       "\n",
       "[23486 rows x 10 columns]"
      ]
     },
     "execution_count": 3,
     "metadata": {},
     "output_type": "execute_result"
    }
   ],
   "source": [
    "data"
   ]
  },
  {
   "cell_type": "code",
   "execution_count": 4,
   "metadata": {},
   "outputs": [],
   "source": [
    "data.columns = ['Clothing_ID', 'Age', 'Title', 'Review_Text', 'Rating', \\\n",
    "                'Recommended_IND', 'Positive_Feedback_Count', 'Division_Name', \\\n",
    "               'Department_Name', 'Class_Name']"
   ]
  },
  {
   "cell_type": "markdown",
   "metadata": {},
   "source": [
    "## Data Description"
   ]
  },
  {
   "cell_type": "code",
   "execution_count": 5,
   "metadata": {},
   "outputs": [
    {
     "data": {
      "text/plain": [
       "Index(['Clothing_ID', 'Age', 'Title', 'Review_Text', 'Rating',\n",
       "       'Recommended_IND', 'Positive_Feedback_Count', 'Division_Name',\n",
       "       'Department_Name', 'Class_Name'],\n",
       "      dtype='object')"
      ]
     },
     "execution_count": 5,
     "metadata": {},
     "output_type": "execute_result"
    }
   ],
   "source": [
    "data.columns"
   ]
  },
  {
   "cell_type": "code",
   "execution_count": 6,
   "metadata": {},
   "outputs": [
    {
     "data": {
      "text/plain": [
       "(23486, 10)"
      ]
     },
     "execution_count": 6,
     "metadata": {},
     "output_type": "execute_result"
    }
   ],
   "source": [
    "data.shape"
   ]
  },
  {
   "cell_type": "code",
   "execution_count": 7,
   "metadata": {},
   "outputs": [
    {
     "data": {
      "text/plain": [
       "Clothing_ID                 int64\n",
       "Age                         int64\n",
       "Title                      object\n",
       "Review_Text                object\n",
       "Rating                      int64\n",
       "Recommended_IND             int64\n",
       "Positive_Feedback_Count     int64\n",
       "Division_Name              object\n",
       "Department_Name            object\n",
       "Class_Name                 object\n",
       "dtype: object"
      ]
     },
     "execution_count": 7,
     "metadata": {},
     "output_type": "execute_result"
    }
   ],
   "source": [
    "data.dtypes"
   ]
  },
  {
   "cell_type": "code",
   "execution_count": 8,
   "metadata": {},
   "outputs": [
    {
     "data": {
      "text/html": [
       "<div>\n",
       "<style scoped>\n",
       "    .dataframe tbody tr th:only-of-type {\n",
       "        vertical-align: middle;\n",
       "    }\n",
       "\n",
       "    .dataframe tbody tr th {\n",
       "        vertical-align: top;\n",
       "    }\n",
       "\n",
       "    .dataframe thead th {\n",
       "        text-align: right;\n",
       "    }\n",
       "</style>\n",
       "<table border=\"1\" class=\"dataframe\">\n",
       "  <thead>\n",
       "    <tr style=\"text-align: right;\">\n",
       "      <th></th>\n",
       "      <th>Clothing_ID</th>\n",
       "      <th>Age</th>\n",
       "      <th>Title</th>\n",
       "      <th>Review_Text</th>\n",
       "      <th>Rating</th>\n",
       "      <th>Recommended_IND</th>\n",
       "      <th>Positive_Feedback_Count</th>\n",
       "      <th>Division_Name</th>\n",
       "      <th>Department_Name</th>\n",
       "      <th>Class_Name</th>\n",
       "    </tr>\n",
       "  </thead>\n",
       "  <tbody>\n",
       "    <tr>\n",
       "      <th>0</th>\n",
       "      <td>767</td>\n",
       "      <td>33</td>\n",
       "      <td>NaN</td>\n",
       "      <td>Absolutely wonderful - silky and sexy and comf...</td>\n",
       "      <td>4</td>\n",
       "      <td>1</td>\n",
       "      <td>0</td>\n",
       "      <td>Initmates</td>\n",
       "      <td>Intimate</td>\n",
       "      <td>Intimates</td>\n",
       "    </tr>\n",
       "    <tr>\n",
       "      <th>1</th>\n",
       "      <td>1080</td>\n",
       "      <td>34</td>\n",
       "      <td>NaN</td>\n",
       "      <td>Love this dress!  it's sooo pretty.  i happene...</td>\n",
       "      <td>5</td>\n",
       "      <td>1</td>\n",
       "      <td>4</td>\n",
       "      <td>General</td>\n",
       "      <td>Dresses</td>\n",
       "      <td>Dresses</td>\n",
       "    </tr>\n",
       "    <tr>\n",
       "      <th>2</th>\n",
       "      <td>1077</td>\n",
       "      <td>60</td>\n",
       "      <td>Some major design flaws</td>\n",
       "      <td>I had such high hopes for this dress and reall...</td>\n",
       "      <td>3</td>\n",
       "      <td>0</td>\n",
       "      <td>0</td>\n",
       "      <td>General</td>\n",
       "      <td>Dresses</td>\n",
       "      <td>Dresses</td>\n",
       "    </tr>\n",
       "    <tr>\n",
       "      <th>3</th>\n",
       "      <td>1049</td>\n",
       "      <td>50</td>\n",
       "      <td>My favorite buy!</td>\n",
       "      <td>I love, love, love this jumpsuit. it's fun, fl...</td>\n",
       "      <td>5</td>\n",
       "      <td>1</td>\n",
       "      <td>0</td>\n",
       "      <td>General Petite</td>\n",
       "      <td>Bottoms</td>\n",
       "      <td>Pants</td>\n",
       "    </tr>\n",
       "    <tr>\n",
       "      <th>4</th>\n",
       "      <td>847</td>\n",
       "      <td>47</td>\n",
       "      <td>Flattering shirt</td>\n",
       "      <td>This shirt is very flattering to all due to th...</td>\n",
       "      <td>5</td>\n",
       "      <td>1</td>\n",
       "      <td>6</td>\n",
       "      <td>General</td>\n",
       "      <td>Tops</td>\n",
       "      <td>Blouses</td>\n",
       "    </tr>\n",
       "  </tbody>\n",
       "</table>\n",
       "</div>"
      ],
      "text/plain": [
       "   Clothing_ID  Age                    Title  \\\n",
       "0          767   33                      NaN   \n",
       "1         1080   34                      NaN   \n",
       "2         1077   60  Some major design flaws   \n",
       "3         1049   50         My favorite buy!   \n",
       "4          847   47         Flattering shirt   \n",
       "\n",
       "                                         Review_Text  Rating  Recommended_IND  \\\n",
       "0  Absolutely wonderful - silky and sexy and comf...       4                1   \n",
       "1  Love this dress!  it's sooo pretty.  i happene...       5                1   \n",
       "2  I had such high hopes for this dress and reall...       3                0   \n",
       "3  I love, love, love this jumpsuit. it's fun, fl...       5                1   \n",
       "4  This shirt is very flattering to all due to th...       5                1   \n",
       "\n",
       "   Positive_Feedback_Count   Division_Name Department_Name Class_Name  \n",
       "0                        0       Initmates        Intimate  Intimates  \n",
       "1                        4         General         Dresses    Dresses  \n",
       "2                        0         General         Dresses    Dresses  \n",
       "3                        0  General Petite         Bottoms      Pants  \n",
       "4                        6         General            Tops    Blouses  "
      ]
     },
     "execution_count": 8,
     "metadata": {},
     "output_type": "execute_result"
    }
   ],
   "source": [
    "data.head()"
   ]
  },
  {
   "cell_type": "code",
   "execution_count": 9,
   "metadata": {},
   "outputs": [
    {
     "data": {
      "text/html": [
       "<div>\n",
       "<style scoped>\n",
       "    .dataframe tbody tr th:only-of-type {\n",
       "        vertical-align: middle;\n",
       "    }\n",
       "\n",
       "    .dataframe tbody tr th {\n",
       "        vertical-align: top;\n",
       "    }\n",
       "\n",
       "    .dataframe thead th {\n",
       "        text-align: right;\n",
       "    }\n",
       "</style>\n",
       "<table border=\"1\" class=\"dataframe\">\n",
       "  <thead>\n",
       "    <tr style=\"text-align: right;\">\n",
       "      <th></th>\n",
       "      <th>Clothing_ID</th>\n",
       "      <th>Age</th>\n",
       "      <th>Rating</th>\n",
       "      <th>Recommended_IND</th>\n",
       "      <th>Positive_Feedback_Count</th>\n",
       "    </tr>\n",
       "  </thead>\n",
       "  <tbody>\n",
       "    <tr>\n",
       "      <th>count</th>\n",
       "      <td>23486.000000</td>\n",
       "      <td>23486.000000</td>\n",
       "      <td>23486.000000</td>\n",
       "      <td>23486.000000</td>\n",
       "      <td>23486.000000</td>\n",
       "    </tr>\n",
       "    <tr>\n",
       "      <th>mean</th>\n",
       "      <td>918.118709</td>\n",
       "      <td>43.198544</td>\n",
       "      <td>4.196032</td>\n",
       "      <td>0.822362</td>\n",
       "      <td>2.535936</td>\n",
       "    </tr>\n",
       "    <tr>\n",
       "      <th>std</th>\n",
       "      <td>203.298980</td>\n",
       "      <td>12.279544</td>\n",
       "      <td>1.110031</td>\n",
       "      <td>0.382216</td>\n",
       "      <td>5.702202</td>\n",
       "    </tr>\n",
       "    <tr>\n",
       "      <th>min</th>\n",
       "      <td>0.000000</td>\n",
       "      <td>18.000000</td>\n",
       "      <td>1.000000</td>\n",
       "      <td>0.000000</td>\n",
       "      <td>0.000000</td>\n",
       "    </tr>\n",
       "    <tr>\n",
       "      <th>25%</th>\n",
       "      <td>861.000000</td>\n",
       "      <td>34.000000</td>\n",
       "      <td>4.000000</td>\n",
       "      <td>1.000000</td>\n",
       "      <td>0.000000</td>\n",
       "    </tr>\n",
       "    <tr>\n",
       "      <th>50%</th>\n",
       "      <td>936.000000</td>\n",
       "      <td>41.000000</td>\n",
       "      <td>5.000000</td>\n",
       "      <td>1.000000</td>\n",
       "      <td>1.000000</td>\n",
       "    </tr>\n",
       "    <tr>\n",
       "      <th>75%</th>\n",
       "      <td>1078.000000</td>\n",
       "      <td>52.000000</td>\n",
       "      <td>5.000000</td>\n",
       "      <td>1.000000</td>\n",
       "      <td>3.000000</td>\n",
       "    </tr>\n",
       "    <tr>\n",
       "      <th>max</th>\n",
       "      <td>1205.000000</td>\n",
       "      <td>99.000000</td>\n",
       "      <td>5.000000</td>\n",
       "      <td>1.000000</td>\n",
       "      <td>122.000000</td>\n",
       "    </tr>\n",
       "  </tbody>\n",
       "</table>\n",
       "</div>"
      ],
      "text/plain": [
       "        Clothing_ID           Age        Rating  Recommended_IND  \\\n",
       "count  23486.000000  23486.000000  23486.000000     23486.000000   \n",
       "mean     918.118709     43.198544      4.196032         0.822362   \n",
       "std      203.298980     12.279544      1.110031         0.382216   \n",
       "min        0.000000     18.000000      1.000000         0.000000   \n",
       "25%      861.000000     34.000000      4.000000         1.000000   \n",
       "50%      936.000000     41.000000      5.000000         1.000000   \n",
       "75%     1078.000000     52.000000      5.000000         1.000000   \n",
       "max     1205.000000     99.000000      5.000000         1.000000   \n",
       "\n",
       "       Positive_Feedback_Count  \n",
       "count             23486.000000  \n",
       "mean                  2.535936  \n",
       "std                   5.702202  \n",
       "min                   0.000000  \n",
       "25%                   0.000000  \n",
       "50%                   1.000000  \n",
       "75%                   3.000000  \n",
       "max                 122.000000  "
      ]
     },
     "execution_count": 9,
     "metadata": {},
     "output_type": "execute_result"
    }
   ],
   "source": [
    "data.describe()"
   ]
  },
  {
   "cell_type": "code",
   "execution_count": 10,
   "metadata": {},
   "outputs": [
    {
     "name": "stdout",
     "output_type": "stream",
     "text": [
      "<class 'pandas.core.frame.DataFrame'>\n",
      "Int64Index: 23486 entries, 0 to 23485\n",
      "Data columns (total 10 columns):\n",
      "Clothing_ID                23486 non-null int64\n",
      "Age                        23486 non-null int64\n",
      "Title                      19676 non-null object\n",
      "Review_Text                22641 non-null object\n",
      "Rating                     23486 non-null int64\n",
      "Recommended_IND            23486 non-null int64\n",
      "Positive_Feedback_Count    23486 non-null int64\n",
      "Division_Name              23472 non-null object\n",
      "Department_Name            23472 non-null object\n",
      "Class_Name                 23472 non-null object\n",
      "dtypes: int64(5), object(5)\n",
      "memory usage: 2.0+ MB\n"
     ]
    }
   ],
   "source": [
    "data.info()"
   ]
  },
  {
   "cell_type": "markdown",
   "metadata": {},
   "source": [
    "#### There are **10 columns** and **23486 rows** in the dataset.\n",
    "\n",
    "This dataset includes 23486 rows and 10 feature variables.\n",
    "Each row corresponds to a customer review, and includes the variables below"
   ]
  },
  {
   "cell_type": "markdown",
   "metadata": {},
   "source": [
    "**Details of the columns:**\n",
    "    1. Clothing ID: Each row is identified with a unique ID.\n",
    "    2. Age: Age of the reviewer\n",
    "    3. Title: Title of the review\n",
    "    4. Review Text: Description of the review\n",
    "    5. Rating: Rating given by the reviewer, numbered from 1-5\n",
    "    6. Recommended IND: Whether the product is recommended or not by the reviewer.\n",
    "                        If Yes - 1\n",
    "                        If No - 0\n",
    "    7. Positive Feedback Count: Number of times, the user has given positive feedback.\n",
    "    8. Division Name: Name of the division, in which the item was classified into.\n",
    "    9. Department Name: Name of the department in the division.\n",
    "    10. Class Name: Name of the class in the department."
   ]
  },
  {
   "cell_type": "markdown",
   "metadata": {},
   "source": [
    "### Missing values"
   ]
  },
  {
   "cell_type": "code",
   "execution_count": 11,
   "metadata": {
    "scrolled": true
   },
   "outputs": [
    {
     "name": "stdout",
     "output_type": "stream",
     "text": [
      "Title has 3810 Null Values\n",
      "Review_Text has 845 Null Values\n",
      "Division_Name has 14 Null Values\n",
      "Department_Name has 14 Null Values\n",
      "Class_Name has 14 Null Values\n"
     ]
    }
   ],
   "source": [
    "for i in data.columns[data.isna().any()].tolist():\n",
    "    print(i, 'has', data[data[i].isna()==True].shape[0], 'Null Values')"
   ]
  },
  {
   "cell_type": "code",
   "execution_count": 12,
   "metadata": {},
   "outputs": [
    {
     "data": {
      "image/png": "[encoded data removed]",
      "text/plain": [
       "<Figure size 792x288 with 1 Axes>"
      ]
     },
     "metadata": {},
     "output_type": "display_data"
    }
   ],
   "source": [
    "#the amount of missing values per feature\n",
    "sns.set(rc={'figure.figsize':(11,4)})\n",
    "pd.isnull(data).sum().plot(kind='bar', color = ['g', 'r'])\n",
    "plt.ylabel('Number of missing values')\n",
    "plt.title('Missing Values per Feature');"
   ]
  },
  {
   "cell_type": "markdown",
   "metadata": {},
   "source": [
    "### Descriptive analysis and Exploratory Data analysis"
   ]
  },
  {
   "cell_type": "code",
   "execution_count": 13,
   "metadata": {},
   "outputs": [
    {
     "data": {
      "image/png": "[encoded data removed]",
      "text/plain": [
       "<Figure size 792x360 with 1 Axes>"
      ]
     },
     "metadata": {},
     "output_type": "display_data"
    }
   ],
   "source": [
    "# Lets see the age distribution first\n",
    "sns.set(rc={'figure.figsize':(11,5)})\n",
    "plt.hist(data.Age, bins=40)\n",
    "plt.xlabel('Age')\n",
    "plt.ylabel('Reviews')\n",
    "plt.title('Number of reviews per Age');"
   ]
  },
  {
   "cell_type": "markdown",
   "metadata": {},
   "source": [
    "By the above graph we can conclude that, the distribution is normal\n",
    "and the age group 25 to 45 is the most revieving age group. \n",
    "\n"
   ]
  },
  {
   "cell_type": "code",
   "execution_count": 14,
   "metadata": {},
   "outputs": [
    {
     "data": {
      "image/png": "[encoded data removed]",
      "text/plain": [
       "<Figure size 792x432 with 1 Axes>"
      ]
     },
     "metadata": {},
     "output_type": "display_data"
    }
   ],
   "source": [
    "sns.set(rc={'figure.figsize':(11,6)})\n",
    "sns.boxplot(x = 'Rating', y = 'Age', data = data)\n",
    "plt.title('Rating Distribution per Age');"
   ]
  },
  {
   "cell_type": "markdown",
   "metadata": {},
   "source": [
    "Here, the upper quartile, lower quartile and the median of all age groups has not showing much difference.\n",
    "Hence,we can conclude the age is not a carrying much difference in reviewing the cloths."
   ]
  },
  {
   "cell_type": "code",
   "execution_count": 15,
   "metadata": {},
   "outputs": [
    {
     "data": {
      "image/png": "[encoded data removed]",
      "text/plain": [
       "<Figure size 1008x1008 with 3 Axes>"
      ]
     },
     "metadata": {},
     "output_type": "display_data"
    }
   ],
   "source": [
    "fig = plt.figure(figsize=(14, 14))\n",
    "ax1 = plt.subplot2grid((2, 2), (0, 0))\n",
    "ax1 = plt.xticks(rotation=45)\n",
    "ax1 = sns.countplot(data['Division_Name'])\n",
    "ax1 = plt.title(\"Reviews in each Division\")\n",
    "\n",
    "ax2 = plt.subplot2grid((2, 2), (0, 1))\n",
    "ax2 = plt.xticks(rotation=45)\n",
    "ax2 = sns.countplot(data['Department_Name'])\n",
    "ax2 = plt.title(\"Reviews in each Department\")\n",
    "\n",
    "\n",
    "ax3 = plt.subplot2grid((2, 2), (1, 0), colspan=2)\n",
    "ax3 = plt.xticks(rotation=45)\n",
    "ax3 = sns.countplot(data['Class_Name'])\n",
    "ax3 = plt.title(\"Reviews in each Class\")"
   ]
  },
  {
   "cell_type": "code",
   "execution_count": 16,
   "metadata": {},
   "outputs": [],
   "source": [
    "recommended = data[data['Recommended_IND']==1]\n",
    "not_recommended = data[data['Recommended_IND']==0]"
   ]
  },
  {
   "cell_type": "code",
   "execution_count": 17,
   "metadata": {},
   "outputs": [
    {
     "data": {
      "image/png": "[encoded data removed]",
      "text/plain": [
       "<Figure size 1008x1008 with 3 Axes>"
      ]
     },
     "metadata": {},
     "output_type": "display_data"
    }
   ],
   "source": [
    "fig = plt.figure(figsize=(14, 14))\n",
    "ax1 = plt.subplot2grid((2, 2), (0, 0))\n",
    "ax1 = sns.countplot(recommended['Division_Name'], color = \"green\", alpha = 0.8, label = \"Recommended\")\n",
    "ax1 = sns.countplot(not_recommended['Division_Name'], color = \"red\", alpha = 0.8, label = \"Not Recommended\")\n",
    "ax1 = plt.title(\"Recommended Items in each Division\")\n",
    "ax1 = plt.legend()\n",
    "\n",
    "ax2 = plt.subplot2grid((2, 2), (0, 1))\n",
    "ax2 = sns.countplot(recommended['Department_Name'], color=\"yellow\", alpha = 0.8, label = \"Recommended\")\n",
    "ax2 = sns.countplot(not_recommended['Department_Name'], color=\"purple\", alpha = 0.8, label = \"Not Recommended\")\n",
    "ax2 = plt.title(\"Recommended Items in each Department\")\n",
    "ax2 = plt.legend()\n",
    "\n",
    "ax3 = plt.subplot2grid((2, 2), (1, 0), colspan=2)\n",
    "ax3 = plt.xticks(rotation=45)\n",
    "ax3 = sns.countplot(recommended['Class_Name'], color=\"cyan\", alpha = 0.8, label = \"Recommended\")\n",
    "ax3 = sns.countplot(not_recommended['Class_Name'], color=\"blue\", alpha = 0.8, label = \"Not Recommended\")\n",
    "ax3 = plt.title(\"Recommended Items in each Class\")\n",
    "ax3 = plt.legend()"
   ]
  },
  {
   "cell_type": "code",
   "execution_count": 18,
   "metadata": {},
   "outputs": [
    {
     "data": {
      "image/png": "[encoded data removed]",
      "text/plain": [
       "<Figure size 1008x648 with 1 Axes>"
      ]
     },
     "metadata": {},
     "output_type": "display_data"
    }
   ],
   "source": [
    "fig = plt.figure(figsize=(14, 9))\n",
    "plt.xticks(rotation=45)\n",
    "plt.xlabel('item class')\n",
    "plt.ylabel('popularity')\n",
    "plt.title(\"Top 50 Popular Items\")\n",
    "data['Class_Name'].value_counts()[:10].plot(kind='bar', color = ['b', 'tab:orange', 'g', 'r', 'm', 'olive', 'tab:pink'\n",
    "                                                                , 'grey', 'y', 'c']);\n"
   ]
  },
  {
   "cell_type": "code",
   "execution_count": 19,
   "metadata": {},
   "outputs": [
    {
     "data": {
      "text/plain": [
       "5    13131\n",
       "4     5077\n",
       "3     2871\n",
       "2     1565\n",
       "1      842\n",
       "Name: Rating, dtype: int64"
      ]
     },
     "execution_count": 19,
     "metadata": {},
     "output_type": "execute_result"
    }
   ],
   "source": [
    "data['Rating'].value_counts()"
   ]
  },
  {
   "cell_type": "code",
   "execution_count": 20,
   "metadata": {},
   "outputs": [
    {
     "data": {
      "text/plain": [
       "1078    1024\n",
       "862      806\n",
       "1094     756\n",
       "1081     582\n",
       "872      545\n",
       "829      527\n",
       "1110     480\n",
       "868      430\n",
       "895      404\n",
       "936      358\n",
       "Name: Clothing_ID, dtype: int64"
      ]
     },
     "execution_count": 20,
     "metadata": {},
     "output_type": "execute_result"
    }
   ],
   "source": [
    "data[\"Clothing_ID\"].value_counts().head(10)"
   ]
  },
  {
   "cell_type": "markdown",
   "metadata": {},
   "source": [
    "Inferences:\n",
    "\n",
    "    1.Age is not showing much difference in reviewing.\n",
    "    \n",
    "    2.The distribution is normal.\n",
    "    \n",
    "    3.General division contributes more reviews.\n",
    "    \n",
    "    4.Tops has much  following in the current trend.\n",
    "    \n",
    "    5.Dresses and knits class tops the list.\n",
    "    \n",
    "    6.Dresses class need urgent care.\n",
    "    \n",
    "    7.Longue class is most recomended."
   ]
  },
  {
   "cell_type": "code",
   "execution_count": 21,
   "metadata": {},
   "outputs": [],
   "source": [
    "sns.set(rc={\"font.style\":\"normal\",\n",
    "            \"axes.grid\":False,\n",
    "            'axes.labelsize':25,\n",
    "            'figure.figsize':(12.0,7.0),\n",
    "            'xtick.labelsize':15,\n",
    "            'ytick.labelsize':15}) "
   ]
  },
  {
   "cell_type": "markdown",
   "metadata": {},
   "source": [
    "### Convert the ratings into 2 classes"
   ]
  },
  {
   "cell_type": "code",
   "execution_count": 22,
   "metadata": {},
   "outputs": [],
   "source": [
    "data.index = pd.Series(list(range(data.shape[0])))"
   ]
  },
  {
   "cell_type": "code",
   "execution_count": 23,
   "metadata": {},
   "outputs": [],
   "source": [
    "def polarity (row):\n",
    "  if row['Rating'] > 3:\n",
    "    return 'Good'\n",
    "  if row['Rating'] <= 3:\n",
    "    return 'Bad'\n",
    " \n",
    "data['Class'] = data.apply(lambda row: polarity(row), axis=1)\n"
   ]
  },
  {
   "cell_type": "code",
   "execution_count": 24,
   "metadata": {},
   "outputs": [
    {
     "data": {
      "text/plain": [
       "0    Good\n",
       "1    Good\n",
       "2     Bad\n",
       "3    Good\n",
       "4    Good\n",
       "5     Bad\n",
       "6    Good\n",
       "7    Good\n",
       "8    Good\n",
       "9    Good\n",
       "Name: Class, dtype: object"
      ]
     },
     "execution_count": 24,
     "metadata": {},
     "output_type": "execute_result"
    }
   ],
   "source": [
    "data[\"Class\"].head(10)"
   ]
  },
  {
   "cell_type": "code",
   "execution_count": 25,
   "metadata": {},
   "outputs": [
    {
     "data": {
      "image/png": "[encoded data removed]",
      "text/plain": [
       "<Figure size 864x504 with 1 Axes>"
      ]
     },
     "metadata": {},
     "output_type": "display_data"
    }
   ],
   "source": [
    "plot1 = data['Rating'].value_counts().plot(kind = 'bar', color = ['b', 'g', 'c', 'grey', 'y'])\n",
    "plot1.set(title = 'Ratings Vs Count', xlabel = 'Ratings', ylabel = 'Count')\n",
    "plt.show()"
   ]
  },
  {
   "cell_type": "code",
   "execution_count": 26,
   "metadata": {},
   "outputs": [
    {
     "data": {
      "image/png": "[encoded data removed]",
      "text/plain": [
       "<Figure size 864x504 with 1 Axes>"
      ]
     },
     "metadata": {},
     "output_type": "display_data"
    }
   ],
   "source": [
    "plot2 = data['Class'].value_counts().plot(kind = 'bar', color = ['grey', 'orange'])\n",
    "plot2.set(title = 'Class Vs Count', xlabel = 'Class', ylabel = 'Count')\n",
    "plt.show()"
   ]
  },
  {
   "cell_type": "markdown",
   "metadata": {},
   "source": [
    "### Top 10 most reviewed Clothing IDs."
   ]
  },
  {
   "cell_type": "code",
   "execution_count": 27,
   "metadata": {},
   "outputs": [
    {
     "data": {
      "text/plain": [
       "1078    1024\n",
       "862      806\n",
       "1094     756\n",
       "1081     582\n",
       "872      545\n",
       "829      527\n",
       "1110     480\n",
       "868      430\n",
       "895      404\n",
       "936      358\n",
       "Name: Clothing_ID, dtype: int64"
      ]
     },
     "execution_count": 27,
     "metadata": {},
     "output_type": "execute_result"
    }
   ],
   "source": [
    "data.Clothing_ID.value_counts().head(10)"
   ]
  },
  {
   "cell_type": "code",
   "execution_count": 28,
   "metadata": {},
   "outputs": [
    {
     "name": "stderr",
     "output_type": "stream",
     "text": [
      "C:\\Users\\Vinay\\Anaconda3\\lib\\site-packages\\ipykernel_launcher.py:1: FutureWarning: using a dict on a Series for aggregation\n",
      "is deprecated and will be removed in a future version\n",
      "  \"\"\"Entry point for launching an IPython kernel.\n"
     ]
    },
    {
     "data": {
      "text/html": [
       "<div>\n",
       "<style scoped>\n",
       "    .dataframe tbody tr th:only-of-type {\n",
       "        vertical-align: middle;\n",
       "    }\n",
       "\n",
       "    .dataframe tbody tr th {\n",
       "        vertical-align: top;\n",
       "    }\n",
       "\n",
       "    .dataframe thead th {\n",
       "        text-align: right;\n",
       "    }\n",
       "</style>\n",
       "<table border=\"1\" class=\"dataframe\">\n",
       "  <thead>\n",
       "    <tr style=\"text-align: right;\">\n",
       "      <th></th>\n",
       "      <th>Count of Good Reviews</th>\n",
       "    </tr>\n",
       "    <tr>\n",
       "      <th>Clothing_ID</th>\n",
       "      <th></th>\n",
       "    </tr>\n",
       "  </thead>\n",
       "  <tbody>\n",
       "    <tr>\n",
       "      <th>1078</th>\n",
       "      <td>796</td>\n",
       "    </tr>\n",
       "    <tr>\n",
       "      <th>862</th>\n",
       "      <td>627</td>\n",
       "    </tr>\n",
       "    <tr>\n",
       "      <th>1094</th>\n",
       "      <td>584</td>\n",
       "    </tr>\n",
       "    <tr>\n",
       "      <th>1081</th>\n",
       "      <td>471</td>\n",
       "    </tr>\n",
       "    <tr>\n",
       "      <th>872</th>\n",
       "      <td>459</td>\n",
       "    </tr>\n",
       "    <tr>\n",
       "      <th>829</th>\n",
       "      <td>406</td>\n",
       "    </tr>\n",
       "    <tr>\n",
       "      <th>1110</th>\n",
       "      <td>377</td>\n",
       "    </tr>\n",
       "    <tr>\n",
       "      <th>895</th>\n",
       "      <td>323</td>\n",
       "    </tr>\n",
       "    <tr>\n",
       "      <th>868</th>\n",
       "      <td>295</td>\n",
       "    </tr>\n",
       "    <tr>\n",
       "      <th>936</th>\n",
       "      <td>285</td>\n",
       "    </tr>\n",
       "  </tbody>\n",
       "</table>\n",
       "</div>"
      ],
      "text/plain": [
       "             Count of Good Reviews\n",
       "Clothing_ID                       \n",
       "1078                           796\n",
       "862                            627\n",
       "1094                           584\n",
       "1081                           471\n",
       "872                            459\n",
       "829                            406\n",
       "1110                           377\n",
       "895                            323\n",
       "868                            295\n",
       "936                            285"
      ]
     },
     "execution_count": 28,
     "metadata": {},
     "output_type": "execute_result"
    }
   ],
   "source": [
    "data[data.Class == 'Good'].groupby(['Clothing_ID'])['Clothing_ID'].agg({'Count of Good Reviews':'count'}).sort_values(by = 'Count of Good Reviews', ascending = False).head(10)"
   ]
  },
  {
   "cell_type": "code",
   "execution_count": 29,
   "metadata": {},
   "outputs": [
    {
     "name": "stderr",
     "output_type": "stream",
     "text": [
      "C:\\Users\\Vinay\\Anaconda3\\lib\\site-packages\\ipykernel_launcher.py:1: FutureWarning: using a dict on a Series for aggregation\n",
      "is deprecated and will be removed in a future version\n",
      "  \"\"\"Entry point for launching an IPython kernel.\n"
     ]
    },
    {
     "data": {
      "text/html": [
       "<div>\n",
       "<style scoped>\n",
       "    .dataframe tbody tr th:only-of-type {\n",
       "        vertical-align: middle;\n",
       "    }\n",
       "\n",
       "    .dataframe tbody tr th {\n",
       "        vertical-align: top;\n",
       "    }\n",
       "\n",
       "    .dataframe thead th {\n",
       "        text-align: right;\n",
       "    }\n",
       "</style>\n",
       "<table border=\"1\" class=\"dataframe\">\n",
       "  <thead>\n",
       "    <tr style=\"text-align: right;\">\n",
       "      <th></th>\n",
       "      <th>Count of Bad Reviews</th>\n",
       "    </tr>\n",
       "    <tr>\n",
       "      <th>Clothing_ID</th>\n",
       "      <th></th>\n",
       "    </tr>\n",
       "  </thead>\n",
       "  <tbody>\n",
       "    <tr>\n",
       "      <th>1078</th>\n",
       "      <td>228</td>\n",
       "    </tr>\n",
       "    <tr>\n",
       "      <th>862</th>\n",
       "      <td>179</td>\n",
       "    </tr>\n",
       "    <tr>\n",
       "      <th>1094</th>\n",
       "      <td>172</td>\n",
       "    </tr>\n",
       "    <tr>\n",
       "      <th>868</th>\n",
       "      <td>135</td>\n",
       "    </tr>\n",
       "    <tr>\n",
       "      <th>829</th>\n",
       "      <td>121</td>\n",
       "    </tr>\n",
       "    <tr>\n",
       "      <th>1081</th>\n",
       "      <td>111</td>\n",
       "    </tr>\n",
       "    <tr>\n",
       "      <th>1110</th>\n",
       "      <td>103</td>\n",
       "    </tr>\n",
       "    <tr>\n",
       "      <th>1095</th>\n",
       "      <td>88</td>\n",
       "    </tr>\n",
       "    <tr>\n",
       "      <th>872</th>\n",
       "      <td>86</td>\n",
       "    </tr>\n",
       "    <tr>\n",
       "      <th>867</th>\n",
       "      <td>84</td>\n",
       "    </tr>\n",
       "  </tbody>\n",
       "</table>\n",
       "</div>"
      ],
      "text/plain": [
       "             Count of Bad Reviews\n",
       "Clothing_ID                      \n",
       "1078                          228\n",
       "862                           179\n",
       "1094                          172\n",
       "868                           135\n",
       "829                           121\n",
       "1081                          111\n",
       "1110                          103\n",
       "1095                           88\n",
       "872                            86\n",
       "867                            84"
      ]
     },
     "execution_count": 29,
     "metadata": {},
     "output_type": "execute_result"
    }
   ],
   "source": [
    "data[data.Class == 'Bad'].groupby(['Clothing_ID'])['Clothing_ID'].agg({'Count of Bad Reviews':'count'}).sort_values(by = 'Count of Bad Reviews', ascending = False).head(10)"
   ]
  },
  {
   "cell_type": "markdown",
   "metadata": {},
   "source": [
    "### Converting dataset based on Age"
   ]
  },
  {
   "cell_type": "code",
   "execution_count": 30,
   "metadata": {},
   "outputs": [
    {
     "data": {
      "text/plain": [
       "max    99\n",
       "min    18\n",
       "Name: Age, dtype: int64"
      ]
     },
     "execution_count": 30,
     "metadata": {},
     "output_type": "execute_result"
    }
   ],
   "source": [
    "data.Age.agg({'max', 'min'})"
   ]
  },
  {
   "cell_type": "code",
   "execution_count": 31,
   "metadata": {},
   "outputs": [],
   "source": [
    "Age_List = pd.DataFrame(columns = ['Age_Group', 'Total_Reviews', 'Good', 'Bad'])\n",
    "ag_list = []\n",
    "for i in [[18, 25], [26, 30], [31, 40], [41, 50], [51, 60], [61, 70], [71, 100]]:\n",
    "    ag_list.append([str(i[0]) + '-' + str(i[1]), data[(data.Age >= i[0]) & (data.Age < i[1])]['Class'].count(),\n",
    "                   data[(data.Age >= i[0]) & (data.Age < i[1])].groupby('Class')['Class'].count()['Good'], data[(data.Age >= i[0]) & (data.Age < i[1])].groupby('Class')['Class'].count()['Bad']])\n",
    "Age_List = Age_List.append(pd.DataFrame(ag_list, columns = ['Age_Group', 'Total_Reviews', 'Good', 'Bad']), ignore_index = True)"
   ]
  },
  {
   "cell_type": "code",
   "execution_count": 32,
   "metadata": {},
   "outputs": [
    {
     "data": {
      "text/html": [
       "<div>\n",
       "<style scoped>\n",
       "    .dataframe tbody tr th:only-of-type {\n",
       "        vertical-align: middle;\n",
       "    }\n",
       "\n",
       "    .dataframe tbody tr th {\n",
       "        vertical-align: top;\n",
       "    }\n",
       "\n",
       "    .dataframe thead th {\n",
       "        text-align: right;\n",
       "    }\n",
       "</style>\n",
       "<table border=\"1\" class=\"dataframe\">\n",
       "  <thead>\n",
       "    <tr style=\"text-align: right;\">\n",
       "      <th></th>\n",
       "      <th>Age_Group</th>\n",
       "      <th>Total_Reviews</th>\n",
       "      <th>Good</th>\n",
       "      <th>Bad</th>\n",
       "    </tr>\n",
       "  </thead>\n",
       "  <tbody>\n",
       "    <tr>\n",
       "      <th>0</th>\n",
       "      <td>18-25</td>\n",
       "      <td>892</td>\n",
       "      <td>733</td>\n",
       "      <td>159</td>\n",
       "    </tr>\n",
       "    <tr>\n",
       "      <th>1</th>\n",
       "      <td>26-30</td>\n",
       "      <td>1708</td>\n",
       "      <td>1271</td>\n",
       "      <td>437</td>\n",
       "    </tr>\n",
       "    <tr>\n",
       "      <th>2</th>\n",
       "      <td>31-40</td>\n",
       "      <td>7295</td>\n",
       "      <td>5585</td>\n",
       "      <td>1710</td>\n",
       "    </tr>\n",
       "    <tr>\n",
       "      <th>3</th>\n",
       "      <td>41-50</td>\n",
       "      <td>5510</td>\n",
       "      <td>4230</td>\n",
       "      <td>1280</td>\n",
       "    </tr>\n",
       "    <tr>\n",
       "      <th>4</th>\n",
       "      <td>51-60</td>\n",
       "      <td>3550</td>\n",
       "      <td>2822</td>\n",
       "      <td>728</td>\n",
       "    </tr>\n",
       "    <tr>\n",
       "      <th>5</th>\n",
       "      <td>61-70</td>\n",
       "      <td>1964</td>\n",
       "      <td>1589</td>\n",
       "      <td>375</td>\n",
       "    </tr>\n",
       "    <tr>\n",
       "      <th>6</th>\n",
       "      <td>71-100</td>\n",
       "      <td>380</td>\n",
       "      <td>302</td>\n",
       "      <td>78</td>\n",
       "    </tr>\n",
       "  </tbody>\n",
       "</table>\n",
       "</div>"
      ],
      "text/plain": [
       "  Age_Group Total_Reviews  Good   Bad\n",
       "0     18-25           892   733   159\n",
       "1     26-30          1708  1271   437\n",
       "2     31-40          7295  5585  1710\n",
       "3     41-50          5510  4230  1280\n",
       "4     51-60          3550  2822   728\n",
       "5     61-70          1964  1589   375\n",
       "6    71-100           380   302    78"
      ]
     },
     "execution_count": 32,
     "metadata": {},
     "output_type": "execute_result"
    }
   ],
   "source": [
    "Age_List"
   ]
  },
  {
   "cell_type": "code",
   "execution_count": 33,
   "metadata": {},
   "outputs": [
    {
     "data": {
      "image/png": "[encoded data removed]",
      "text/plain": [
       "<Figure size 864x504 with 1 Axes>"
      ]
     },
     "metadata": {},
     "output_type": "display_data"
    }
   ],
   "source": [
    "sns.set()\n",
    "Age_List[['Age_Group', 'Good', 'Bad']].set_index('Age_Group').plot(kind = 'bar', stacked = True)\n",
    "plt.show()"
   ]
  },
  {
   "cell_type": "markdown",
   "metadata": {},
   "source": [
    "**We can observe from the above graph that the age groups 31-40, 41-50, 51-60 has highest number of negative reviews.**"
   ]
  },
  {
   "cell_type": "code",
   "execution_count": 34,
   "metadata": {},
   "outputs": [
    {
     "data": {
      "text/plain": [
       "Index(['Clothing_ID', 'Age', 'Title', 'Review_Text', 'Rating',\n",
       "       'Recommended_IND', 'Positive_Feedback_Count', 'Division_Name',\n",
       "       'Department_Name', 'Class_Name', 'Class'],\n",
       "      dtype='object')"
      ]
     },
     "execution_count": 34,
     "metadata": {},
     "output_type": "execute_result"
    }
   ],
   "source": [
    "data.columns"
   ]
  },
  {
   "cell_type": "markdown",
   "metadata": {},
   "source": [
    "### Converting Dataset based on Recommendation_IND"
   ]
  },
  {
   "cell_type": "code",
   "execution_count": 35,
   "metadata": {},
   "outputs": [
    {
     "data": {
      "text/plain": [
       "Class              1299\n",
       "Recommended_IND    1299\n",
       "dtype: int64"
      ]
     },
     "execution_count": 35,
     "metadata": {},
     "output_type": "execute_result"
    }
   ],
   "source": [
    "data[(data.Class == 'Bad') & (data.Recommended_IND == 1)][['Class', 'Recommended_IND']].count()"
   ]
  },
  {
   "cell_type": "code",
   "execution_count": 36,
   "metadata": {},
   "outputs": [],
   "source": [
    "Rec_List = pd.DataFrame(columns = ['Class', 'Ind1_Count', 'Ind0_Count'])\n",
    "rc_list = []\n",
    "for i in list([[1, 0, 'Good'], [1, 0, 'Bad']]):\n",
    "    rc_list.append([i[2], data[(data.Class == i[2]) & (data.Recommended_IND == int(i[0]))]['Class'].count(),\n",
    "                   data[(data.Class == i[2]) & (data.Recommended_IND == int(i[1]))]['Class'].count()])\n",
    "Rec_List = Rec_List.append(pd.DataFrame(rc_list, columns = ['Class', 'Ind1_Count', 'Ind0_Count']), ignore_index = True)"
   ]
  },
  {
   "cell_type": "code",
   "execution_count": 37,
   "metadata": {},
   "outputs": [
    {
     "data": {
      "text/html": [
       "<div>\n",
       "<style scoped>\n",
       "    .dataframe tbody tr th:only-of-type {\n",
       "        vertical-align: middle;\n",
       "    }\n",
       "\n",
       "    .dataframe tbody tr th {\n",
       "        vertical-align: top;\n",
       "    }\n",
       "\n",
       "    .dataframe thead th {\n",
       "        text-align: right;\n",
       "    }\n",
       "</style>\n",
       "<table border=\"1\" class=\"dataframe\">\n",
       "  <thead>\n",
       "    <tr style=\"text-align: right;\">\n",
       "      <th></th>\n",
       "      <th>Class</th>\n",
       "      <th>Ind1_Count</th>\n",
       "      <th>Ind0_Count</th>\n",
       "    </tr>\n",
       "  </thead>\n",
       "  <tbody>\n",
       "    <tr>\n",
       "      <th>0</th>\n",
       "      <td>Good</td>\n",
       "      <td>18015</td>\n",
       "      <td>193</td>\n",
       "    </tr>\n",
       "    <tr>\n",
       "      <th>1</th>\n",
       "      <td>Bad</td>\n",
       "      <td>1299</td>\n",
       "      <td>3979</td>\n",
       "    </tr>\n",
       "  </tbody>\n",
       "</table>\n",
       "</div>"
      ],
      "text/plain": [
       "  Class Ind1_Count Ind0_Count\n",
       "0  Good      18015        193\n",
       "1   Bad       1299       3979"
      ]
     },
     "execution_count": 37,
     "metadata": {},
     "output_type": "execute_result"
    }
   ],
   "source": [
    "Rec_List"
   ]
  },
  {
   "cell_type": "code",
   "execution_count": 38,
   "metadata": {},
   "outputs": [
    {
     "data": {
      "image/png": "[encoded data removed]",
      "text/plain": [
       "<Figure size 864x504 with 1 Axes>"
      ]
     },
     "metadata": {},
     "output_type": "display_data"
    }
   ],
   "source": [
    "sns.set()\n",
    "Rec_List[['Class', 'Ind1_Count', 'Ind0_Count']].set_index('Class').plot(kind = 'bar', stacked = True)\n",
    "plt.show()"
   ]
  },
  {
   "cell_type": "markdown",
   "metadata": {},
   "source": [
    "**From the above graph, we can observe that \n",
    "    a) when the recommendation index is 1 - it is most likely to be a good review, \n",
    "    b) when the recommendation index is 0 - it is most likely to be bad review.**"
   ]
  },
  {
   "cell_type": "markdown",
   "metadata": {},
   "source": [
    "## Finding the correlation between the Input Variables"
   ]
  },
  {
   "cell_type": "code",
   "execution_count": 39,
   "metadata": {},
   "outputs": [
    {
     "data": {
      "text/html": [
       "<div>\n",
       "<style scoped>\n",
       "    .dataframe tbody tr th:only-of-type {\n",
       "        vertical-align: middle;\n",
       "    }\n",
       "\n",
       "    .dataframe tbody tr th {\n",
       "        vertical-align: top;\n",
       "    }\n",
       "\n",
       "    .dataframe thead th {\n",
       "        text-align: right;\n",
       "    }\n",
       "</style>\n",
       "<table border=\"1\" class=\"dataframe\">\n",
       "  <thead>\n",
       "    <tr style=\"text-align: right;\">\n",
       "      <th></th>\n",
       "      <th>Clothing_ID</th>\n",
       "      <th>Age</th>\n",
       "      <th>Rating</th>\n",
       "      <th>Recommended_IND</th>\n",
       "      <th>Positive_Feedback_Count</th>\n",
       "    </tr>\n",
       "  </thead>\n",
       "  <tbody>\n",
       "    <tr>\n",
       "      <th>Clothing_ID</th>\n",
       "      <td>1.000000</td>\n",
       "      <td>0.017972</td>\n",
       "      <td>-0.018879</td>\n",
       "      <td>-0.016206</td>\n",
       "      <td>0.046356</td>\n",
       "    </tr>\n",
       "    <tr>\n",
       "      <th>Age</th>\n",
       "      <td>0.017972</td>\n",
       "      <td>1.000000</td>\n",
       "      <td>0.026831</td>\n",
       "      <td>0.030622</td>\n",
       "      <td>0.043079</td>\n",
       "    </tr>\n",
       "    <tr>\n",
       "      <th>Rating</th>\n",
       "      <td>-0.018879</td>\n",
       "      <td>0.026831</td>\n",
       "      <td>1.000000</td>\n",
       "      <td>0.792336</td>\n",
       "      <td>-0.064961</td>\n",
       "    </tr>\n",
       "    <tr>\n",
       "      <th>Recommended_IND</th>\n",
       "      <td>-0.016206</td>\n",
       "      <td>0.030622</td>\n",
       "      <td>0.792336</td>\n",
       "      <td>1.000000</td>\n",
       "      <td>-0.069045</td>\n",
       "    </tr>\n",
       "    <tr>\n",
       "      <th>Positive_Feedback_Count</th>\n",
       "      <td>0.046356</td>\n",
       "      <td>0.043079</td>\n",
       "      <td>-0.064961</td>\n",
       "      <td>-0.069045</td>\n",
       "      <td>1.000000</td>\n",
       "    </tr>\n",
       "  </tbody>\n",
       "</table>\n",
       "</div>"
      ],
      "text/plain": [
       "                         Clothing_ID       Age    Rating  Recommended_IND  \\\n",
       "Clothing_ID                 1.000000  0.017972 -0.018879        -0.016206   \n",
       "Age                         0.017972  1.000000  0.026831         0.030622   \n",
       "Rating                     -0.018879  0.026831  1.000000         0.792336   \n",
       "Recommended_IND            -0.016206  0.030622  0.792336         1.000000   \n",
       "Positive_Feedback_Count     0.046356  0.043079 -0.064961        -0.069045   \n",
       "\n",
       "                         Positive_Feedback_Count  \n",
       "Clothing_ID                             0.046356  \n",
       "Age                                     0.043079  \n",
       "Rating                                 -0.064961  \n",
       "Recommended_IND                        -0.069045  \n",
       "Positive_Feedback_Count                 1.000000  "
      ]
     },
     "execution_count": 39,
     "metadata": {},
     "output_type": "execute_result"
    }
   ],
   "source": [
    "data.corr()"
   ]
  },
  {
   "cell_type": "code",
   "execution_count": 40,
   "metadata": {},
   "outputs": [
    {
     "data": {
      "text/plain": [
       "<matplotlib.axes._subplots.AxesSubplot at 0x21272e86ac8>"
      ]
     },
     "execution_count": 40,
     "metadata": {},
     "output_type": "execute_result"
    },
    {
     "data": {
      "image/png": "[encoded data removed]",
      "text/plain": [
       "<Figure size 864x504 with 2 Axes>"
      ]
     },
     "metadata": {},
     "output_type": "display_data"
    }
   ],
   "source": [
    "sns.heatmap(data.corr(), annot = True)"
   ]
  },
  {
   "cell_type": "markdown",
   "metadata": {},
   "source": [
    "**From the above matrix, we can observe that Recommendation_IND has high correlation with the rating.**"
   ]
  },
  {
   "cell_type": "markdown",
   "metadata": {},
   "source": [
    "### Data Cleaning and Text preprocessing"
   ]
  },
  {
   "cell_type": "code",
   "execution_count": 41,
   "metadata": {},
   "outputs": [],
   "source": [
    "data_raw = data.copy()"
   ]
  },
  {
   "cell_type": "code",
   "execution_count": 42,
   "metadata": {},
   "outputs": [],
   "source": [
    "# Dropping Null Values\n",
    "data_raw.dropna(subset=['Review_Text'], inplace = True)"
   ]
  },
  {
   "cell_type": "code",
   "execution_count": 43,
   "metadata": {},
   "outputs": [
    {
     "data": {
      "text/html": [
       "<div>\n",
       "<style scoped>\n",
       "    .dataframe tbody tr th:only-of-type {\n",
       "        vertical-align: middle;\n",
       "    }\n",
       "\n",
       "    .dataframe tbody tr th {\n",
       "        vertical-align: top;\n",
       "    }\n",
       "\n",
       "    .dataframe thead th {\n",
       "        text-align: right;\n",
       "    }\n",
       "</style>\n",
       "<table border=\"1\" class=\"dataframe\">\n",
       "  <thead>\n",
       "    <tr style=\"text-align: right;\">\n",
       "      <th></th>\n",
       "      <th>Clothing_ID</th>\n",
       "      <th>Age</th>\n",
       "      <th>Title</th>\n",
       "      <th>Review_Text</th>\n",
       "      <th>Rating</th>\n",
       "      <th>Recommended_IND</th>\n",
       "      <th>Positive_Feedback_Count</th>\n",
       "      <th>Division_Name</th>\n",
       "      <th>Department_Name</th>\n",
       "      <th>Class_Name</th>\n",
       "      <th>Class</th>\n",
       "    </tr>\n",
       "  </thead>\n",
       "  <tbody>\n",
       "    <tr>\n",
       "      <th>0</th>\n",
       "      <td>767</td>\n",
       "      <td>33</td>\n",
       "      <td>NaN</td>\n",
       "      <td>Absolutely wonderful - silky and sexy and comf...</td>\n",
       "      <td>4</td>\n",
       "      <td>1</td>\n",
       "      <td>0</td>\n",
       "      <td>Initmates</td>\n",
       "      <td>Intimate</td>\n",
       "      <td>Intimates</td>\n",
       "      <td>Good</td>\n",
       "    </tr>\n",
       "    <tr>\n",
       "      <th>1</th>\n",
       "      <td>1080</td>\n",
       "      <td>34</td>\n",
       "      <td>NaN</td>\n",
       "      <td>Love this dress!  it's sooo pretty.  i happene...</td>\n",
       "      <td>5</td>\n",
       "      <td>1</td>\n",
       "      <td>4</td>\n",
       "      <td>General</td>\n",
       "      <td>Dresses</td>\n",
       "      <td>Dresses</td>\n",
       "      <td>Good</td>\n",
       "    </tr>\n",
       "    <tr>\n",
       "      <th>2</th>\n",
       "      <td>1077</td>\n",
       "      <td>60</td>\n",
       "      <td>Some major design flaws</td>\n",
       "      <td>I had such high hopes for this dress and reall...</td>\n",
       "      <td>3</td>\n",
       "      <td>0</td>\n",
       "      <td>0</td>\n",
       "      <td>General</td>\n",
       "      <td>Dresses</td>\n",
       "      <td>Dresses</td>\n",
       "      <td>Bad</td>\n",
       "    </tr>\n",
       "    <tr>\n",
       "      <th>3</th>\n",
       "      <td>1049</td>\n",
       "      <td>50</td>\n",
       "      <td>My favorite buy!</td>\n",
       "      <td>I love, love, love this jumpsuit. it's fun, fl...</td>\n",
       "      <td>5</td>\n",
       "      <td>1</td>\n",
       "      <td>0</td>\n",
       "      <td>General Petite</td>\n",
       "      <td>Bottoms</td>\n",
       "      <td>Pants</td>\n",
       "      <td>Good</td>\n",
       "    </tr>\n",
       "    <tr>\n",
       "      <th>4</th>\n",
       "      <td>847</td>\n",
       "      <td>47</td>\n",
       "      <td>Flattering shirt</td>\n",
       "      <td>This shirt is very flattering to all due to th...</td>\n",
       "      <td>5</td>\n",
       "      <td>1</td>\n",
       "      <td>6</td>\n",
       "      <td>General</td>\n",
       "      <td>Tops</td>\n",
       "      <td>Blouses</td>\n",
       "      <td>Good</td>\n",
       "    </tr>\n",
       "    <tr>\n",
       "      <th>5</th>\n",
       "      <td>1080</td>\n",
       "      <td>49</td>\n",
       "      <td>Not for the very petite</td>\n",
       "      <td>I love tracy reese dresses, but this one is no...</td>\n",
       "      <td>2</td>\n",
       "      <td>0</td>\n",
       "      <td>4</td>\n",
       "      <td>General</td>\n",
       "      <td>Dresses</td>\n",
       "      <td>Dresses</td>\n",
       "      <td>Bad</td>\n",
       "    </tr>\n",
       "    <tr>\n",
       "      <th>6</th>\n",
       "      <td>858</td>\n",
       "      <td>39</td>\n",
       "      <td>Cagrcoal shimmer fun</td>\n",
       "      <td>I aded this in my basket at hte last mintue to...</td>\n",
       "      <td>5</td>\n",
       "      <td>1</td>\n",
       "      <td>1</td>\n",
       "      <td>General Petite</td>\n",
       "      <td>Tops</td>\n",
       "      <td>Knits</td>\n",
       "      <td>Good</td>\n",
       "    </tr>\n",
       "    <tr>\n",
       "      <th>7</th>\n",
       "      <td>858</td>\n",
       "      <td>39</td>\n",
       "      <td>Shimmer, surprisingly goes with lots</td>\n",
       "      <td>I ordered this in carbon for store pick up, an...</td>\n",
       "      <td>4</td>\n",
       "      <td>1</td>\n",
       "      <td>4</td>\n",
       "      <td>General Petite</td>\n",
       "      <td>Tops</td>\n",
       "      <td>Knits</td>\n",
       "      <td>Good</td>\n",
       "    </tr>\n",
       "    <tr>\n",
       "      <th>8</th>\n",
       "      <td>1077</td>\n",
       "      <td>24</td>\n",
       "      <td>Flattering</td>\n",
       "      <td>I love this dress. i usually get an xs but it ...</td>\n",
       "      <td>5</td>\n",
       "      <td>1</td>\n",
       "      <td>0</td>\n",
       "      <td>General</td>\n",
       "      <td>Dresses</td>\n",
       "      <td>Dresses</td>\n",
       "      <td>Good</td>\n",
       "    </tr>\n",
       "    <tr>\n",
       "      <th>9</th>\n",
       "      <td>1077</td>\n",
       "      <td>34</td>\n",
       "      <td>Such a fun dress!</td>\n",
       "      <td>I'm 5\"5' and 125 lbs. i ordered the s petite t...</td>\n",
       "      <td>5</td>\n",
       "      <td>1</td>\n",
       "      <td>0</td>\n",
       "      <td>General</td>\n",
       "      <td>Dresses</td>\n",
       "      <td>Dresses</td>\n",
       "      <td>Good</td>\n",
       "    </tr>\n",
       "    <tr>\n",
       "      <th>10</th>\n",
       "      <td>1077</td>\n",
       "      <td>53</td>\n",
       "      <td>Dress looks like it's made of cheap material</td>\n",
       "      <td>Dress runs small esp where the zipper area run...</td>\n",
       "      <td>3</td>\n",
       "      <td>0</td>\n",
       "      <td>14</td>\n",
       "      <td>General</td>\n",
       "      <td>Dresses</td>\n",
       "      <td>Dresses</td>\n",
       "      <td>Bad</td>\n",
       "    </tr>\n",
       "    <tr>\n",
       "      <th>11</th>\n",
       "      <td>1095</td>\n",
       "      <td>39</td>\n",
       "      <td>NaN</td>\n",
       "      <td>This dress is perfection! so pretty and flatte...</td>\n",
       "      <td>5</td>\n",
       "      <td>1</td>\n",
       "      <td>2</td>\n",
       "      <td>General Petite</td>\n",
       "      <td>Dresses</td>\n",
       "      <td>Dresses</td>\n",
       "      <td>Good</td>\n",
       "    </tr>\n",
       "    <tr>\n",
       "      <th>12</th>\n",
       "      <td>1095</td>\n",
       "      <td>53</td>\n",
       "      <td>Perfect!!!</td>\n",
       "      <td>More and more i find myself reliant on the rev...</td>\n",
       "      <td>5</td>\n",
       "      <td>1</td>\n",
       "      <td>2</td>\n",
       "      <td>General Petite</td>\n",
       "      <td>Dresses</td>\n",
       "      <td>Dresses</td>\n",
       "      <td>Good</td>\n",
       "    </tr>\n",
       "    <tr>\n",
       "      <th>13</th>\n",
       "      <td>767</td>\n",
       "      <td>44</td>\n",
       "      <td>Runs big</td>\n",
       "      <td>Bought the black xs to go under the larkspur m...</td>\n",
       "      <td>5</td>\n",
       "      <td>1</td>\n",
       "      <td>0</td>\n",
       "      <td>Initmates</td>\n",
       "      <td>Intimate</td>\n",
       "      <td>Intimates</td>\n",
       "      <td>Good</td>\n",
       "    </tr>\n",
       "    <tr>\n",
       "      <th>14</th>\n",
       "      <td>1077</td>\n",
       "      <td>50</td>\n",
       "      <td>Pretty party dress with some issues</td>\n",
       "      <td>This is a nice choice for holiday gatherings. ...</td>\n",
       "      <td>3</td>\n",
       "      <td>1</td>\n",
       "      <td>1</td>\n",
       "      <td>General</td>\n",
       "      <td>Dresses</td>\n",
       "      <td>Dresses</td>\n",
       "      <td>Bad</td>\n",
       "    </tr>\n",
       "    <tr>\n",
       "      <th>15</th>\n",
       "      <td>1065</td>\n",
       "      <td>47</td>\n",
       "      <td>Nice, but not for my body</td>\n",
       "      <td>I took these out of the package and wanted the...</td>\n",
       "      <td>4</td>\n",
       "      <td>1</td>\n",
       "      <td>3</td>\n",
       "      <td>General</td>\n",
       "      <td>Bottoms</td>\n",
       "      <td>Pants</td>\n",
       "      <td>Good</td>\n",
       "    </tr>\n",
       "    <tr>\n",
       "      <th>16</th>\n",
       "      <td>1065</td>\n",
       "      <td>34</td>\n",
       "      <td>You need to be at least average height, or taller</td>\n",
       "      <td>Material and color is nice.  the leg opening i...</td>\n",
       "      <td>3</td>\n",
       "      <td>1</td>\n",
       "      <td>2</td>\n",
       "      <td>General</td>\n",
       "      <td>Bottoms</td>\n",
       "      <td>Pants</td>\n",
       "      <td>Bad</td>\n",
       "    </tr>\n",
       "    <tr>\n",
       "      <th>17</th>\n",
       "      <td>853</td>\n",
       "      <td>41</td>\n",
       "      <td>Looks great with white pants</td>\n",
       "      <td>Took a chance on this blouse and so glad i did...</td>\n",
       "      <td>5</td>\n",
       "      <td>1</td>\n",
       "      <td>0</td>\n",
       "      <td>General</td>\n",
       "      <td>Tops</td>\n",
       "      <td>Blouses</td>\n",
       "      <td>Good</td>\n",
       "    </tr>\n",
       "    <tr>\n",
       "      <th>18</th>\n",
       "      <td>1120</td>\n",
       "      <td>32</td>\n",
       "      <td>Super cute and cozy</td>\n",
       "      <td>A flattering, super cozy coat.  will work well...</td>\n",
       "      <td>5</td>\n",
       "      <td>1</td>\n",
       "      <td>0</td>\n",
       "      <td>General</td>\n",
       "      <td>Jackets</td>\n",
       "      <td>Outerwear</td>\n",
       "      <td>Good</td>\n",
       "    </tr>\n",
       "    <tr>\n",
       "      <th>19</th>\n",
       "      <td>1077</td>\n",
       "      <td>47</td>\n",
       "      <td>Stylish and comfortable</td>\n",
       "      <td>I love the look and feel of this tulle dress. ...</td>\n",
       "      <td>5</td>\n",
       "      <td>1</td>\n",
       "      <td>0</td>\n",
       "      <td>General</td>\n",
       "      <td>Dresses</td>\n",
       "      <td>Dresses</td>\n",
       "      <td>Good</td>\n",
       "    </tr>\n",
       "    <tr>\n",
       "      <th>20</th>\n",
       "      <td>847</td>\n",
       "      <td>33</td>\n",
       "      <td>Cute, crisp shirt</td>\n",
       "      <td>If this product was in petite, i would get the...</td>\n",
       "      <td>4</td>\n",
       "      <td>1</td>\n",
       "      <td>2</td>\n",
       "      <td>General</td>\n",
       "      <td>Tops</td>\n",
       "      <td>Blouses</td>\n",
       "      <td>Good</td>\n",
       "    </tr>\n",
       "    <tr>\n",
       "      <th>21</th>\n",
       "      <td>1080</td>\n",
       "      <td>55</td>\n",
       "      <td>I'm torn!</td>\n",
       "      <td>I'm upset because for the price of the dress, ...</td>\n",
       "      <td>4</td>\n",
       "      <td>1</td>\n",
       "      <td>14</td>\n",
       "      <td>General</td>\n",
       "      <td>Dresses</td>\n",
       "      <td>Dresses</td>\n",
       "      <td>Good</td>\n",
       "    </tr>\n",
       "    <tr>\n",
       "      <th>22</th>\n",
       "      <td>1077</td>\n",
       "      <td>31</td>\n",
       "      <td>Not what it looks like</td>\n",
       "      <td>First of all, this is not pullover styling. th...</td>\n",
       "      <td>2</td>\n",
       "      <td>0</td>\n",
       "      <td>7</td>\n",
       "      <td>General</td>\n",
       "      <td>Dresses</td>\n",
       "      <td>Dresses</td>\n",
       "      <td>Bad</td>\n",
       "    </tr>\n",
       "    <tr>\n",
       "      <th>23</th>\n",
       "      <td>1077</td>\n",
       "      <td>34</td>\n",
       "      <td>Like it, but don't love it.</td>\n",
       "      <td>Cute little dress fits tts. it is a little hig...</td>\n",
       "      <td>3</td>\n",
       "      <td>1</td>\n",
       "      <td>0</td>\n",
       "      <td>General</td>\n",
       "      <td>Dresses</td>\n",
       "      <td>Dresses</td>\n",
       "      <td>Bad</td>\n",
       "    </tr>\n",
       "    <tr>\n",
       "      <th>24</th>\n",
       "      <td>847</td>\n",
       "      <td>55</td>\n",
       "      <td>Versatile</td>\n",
       "      <td>I love this shirt because when i first saw it,...</td>\n",
       "      <td>5</td>\n",
       "      <td>1</td>\n",
       "      <td>0</td>\n",
       "      <td>General</td>\n",
       "      <td>Tops</td>\n",
       "      <td>Blouses</td>\n",
       "      <td>Good</td>\n",
       "    </tr>\n",
       "    <tr>\n",
       "      <th>25</th>\n",
       "      <td>697</td>\n",
       "      <td>31</td>\n",
       "      <td>Falls flat</td>\n",
       "      <td>Loved the material, but i didnt really look at...</td>\n",
       "      <td>3</td>\n",
       "      <td>0</td>\n",
       "      <td>0</td>\n",
       "      <td>Initmates</td>\n",
       "      <td>Intimate</td>\n",
       "      <td>Lounge</td>\n",
       "      <td>Bad</td>\n",
       "    </tr>\n",
       "    <tr>\n",
       "      <th>26</th>\n",
       "      <td>949</td>\n",
       "      <td>33</td>\n",
       "      <td>Huge disappointment</td>\n",
       "      <td>I have been waiting for this sweater coat to s...</td>\n",
       "      <td>2</td>\n",
       "      <td>0</td>\n",
       "      <td>0</td>\n",
       "      <td>General</td>\n",
       "      <td>Tops</td>\n",
       "      <td>Sweaters</td>\n",
       "      <td>Bad</td>\n",
       "    </tr>\n",
       "    <tr>\n",
       "      <th>27</th>\n",
       "      <td>1003</td>\n",
       "      <td>31</td>\n",
       "      <td>Loved, but returned</td>\n",
       "      <td>The colors weren't what i expected either. the...</td>\n",
       "      <td>4</td>\n",
       "      <td>1</td>\n",
       "      <td>0</td>\n",
       "      <td>General</td>\n",
       "      <td>Bottoms</td>\n",
       "      <td>Skirts</td>\n",
       "      <td>Good</td>\n",
       "    </tr>\n",
       "    <tr>\n",
       "      <th>28</th>\n",
       "      <td>684</td>\n",
       "      <td>53</td>\n",
       "      <td>Great shirt!!!</td>\n",
       "      <td>I have several of goodhyouman shirts and i get...</td>\n",
       "      <td>5</td>\n",
       "      <td>1</td>\n",
       "      <td>2</td>\n",
       "      <td>Initmates</td>\n",
       "      <td>Intimate</td>\n",
       "      <td>Lounge</td>\n",
       "      <td>Good</td>\n",
       "    </tr>\n",
       "    <tr>\n",
       "      <th>29</th>\n",
       "      <td>4</td>\n",
       "      <td>28</td>\n",
       "      <td>Great layering piece</td>\n",
       "      <td>This sweater is so comfy and classic - it bala...</td>\n",
       "      <td>5</td>\n",
       "      <td>1</td>\n",
       "      <td>0</td>\n",
       "      <td>General</td>\n",
       "      <td>Tops</td>\n",
       "      <td>Sweaters</td>\n",
       "      <td>Good</td>\n",
       "    </tr>\n",
       "    <tr>\n",
       "      <th>...</th>\n",
       "      <td>...</td>\n",
       "      <td>...</td>\n",
       "      <td>...</td>\n",
       "      <td>...</td>\n",
       "      <td>...</td>\n",
       "      <td>...</td>\n",
       "      <td>...</td>\n",
       "      <td>...</td>\n",
       "      <td>...</td>\n",
       "      <td>...</td>\n",
       "      <td>...</td>\n",
       "    </tr>\n",
       "    <tr>\n",
       "      <th>23454</th>\n",
       "      <td>999</td>\n",
       "      <td>39</td>\n",
       "      <td>Not exactly what i expected</td>\n",
       "      <td>The fabric is very thick and textured almost l...</td>\n",
       "      <td>4</td>\n",
       "      <td>1</td>\n",
       "      <td>1</td>\n",
       "      <td>General</td>\n",
       "      <td>Bottoms</td>\n",
       "      <td>Skirts</td>\n",
       "      <td>Good</td>\n",
       "    </tr>\n",
       "    <tr>\n",
       "      <th>23455</th>\n",
       "      <td>1104</td>\n",
       "      <td>35</td>\n",
       "      <td>Cute dress</td>\n",
       "      <td>This is a very cute dress that i did not keep....</td>\n",
       "      <td>4</td>\n",
       "      <td>1</td>\n",
       "      <td>1</td>\n",
       "      <td>General Petite</td>\n",
       "      <td>Dresses</td>\n",
       "      <td>Dresses</td>\n",
       "      <td>Good</td>\n",
       "    </tr>\n",
       "    <tr>\n",
       "      <th>23456</th>\n",
       "      <td>1104</td>\n",
       "      <td>35</td>\n",
       "      <td>Flattering and lovely sweater dress</td>\n",
       "      <td>I have been on a search for a dress with sleev...</td>\n",
       "      <td>5</td>\n",
       "      <td>1</td>\n",
       "      <td>3</td>\n",
       "      <td>General Petite</td>\n",
       "      <td>Dresses</td>\n",
       "      <td>Dresses</td>\n",
       "      <td>Good</td>\n",
       "    </tr>\n",
       "    <tr>\n",
       "      <th>23457</th>\n",
       "      <td>262</td>\n",
       "      <td>49</td>\n",
       "      <td>Adorable</td>\n",
       "      <td>These pants are soft, fun print and comfy. the...</td>\n",
       "      <td>5</td>\n",
       "      <td>1</td>\n",
       "      <td>3</td>\n",
       "      <td>General Petite</td>\n",
       "      <td>Intimate</td>\n",
       "      <td>Lounge</td>\n",
       "      <td>Good</td>\n",
       "    </tr>\n",
       "    <tr>\n",
       "      <th>23458</th>\n",
       "      <td>862</td>\n",
       "      <td>63</td>\n",
       "      <td>NaN</td>\n",
       "      <td>This is my new favorite sweater. it is lightwe...</td>\n",
       "      <td>5</td>\n",
       "      <td>1</td>\n",
       "      <td>0</td>\n",
       "      <td>General Petite</td>\n",
       "      <td>Tops</td>\n",
       "      <td>Knits</td>\n",
       "      <td>Good</td>\n",
       "    </tr>\n",
       "    <tr>\n",
       "      <th>23459</th>\n",
       "      <td>1094</td>\n",
       "      <td>57</td>\n",
       "      <td>Perfect except slip</td>\n",
       "      <td>This is my new favorite dress! my only complai...</td>\n",
       "      <td>4</td>\n",
       "      <td>1</td>\n",
       "      <td>3</td>\n",
       "      <td>General Petite</td>\n",
       "      <td>Dresses</td>\n",
       "      <td>Dresses</td>\n",
       "      <td>Good</td>\n",
       "    </tr>\n",
       "    <tr>\n",
       "      <th>23460</th>\n",
       "      <td>1078</td>\n",
       "      <td>34</td>\n",
       "      <td>Such high hopes!</td>\n",
       "      <td>I purchased this for a very good price and i t...</td>\n",
       "      <td>3</td>\n",
       "      <td>0</td>\n",
       "      <td>0</td>\n",
       "      <td>General</td>\n",
       "      <td>Dresses</td>\n",
       "      <td>Dresses</td>\n",
       "      <td>Bad</td>\n",
       "    </tr>\n",
       "    <tr>\n",
       "      <th>23461</th>\n",
       "      <td>262</td>\n",
       "      <td>49</td>\n",
       "      <td>Comfortable but not super-flattering on me</td>\n",
       "      <td>I tried these on at the store and the fit was ...</td>\n",
       "      <td>4</td>\n",
       "      <td>1</td>\n",
       "      <td>1</td>\n",
       "      <td>General Petite</td>\n",
       "      <td>Intimate</td>\n",
       "      <td>Lounge</td>\n",
       "      <td>Good</td>\n",
       "    </tr>\n",
       "    <tr>\n",
       "      <th>23462</th>\n",
       "      <td>999</td>\n",
       "      <td>24</td>\n",
       "      <td>Its okay</td>\n",
       "      <td>The pattern of this skirt is adorable and look...</td>\n",
       "      <td>3</td>\n",
       "      <td>1</td>\n",
       "      <td>0</td>\n",
       "      <td>General</td>\n",
       "      <td>Bottoms</td>\n",
       "      <td>Skirts</td>\n",
       "      <td>Bad</td>\n",
       "    </tr>\n",
       "    <tr>\n",
       "      <th>23463</th>\n",
       "      <td>262</td>\n",
       "      <td>65</td>\n",
       "      <td>Comfy pants</td>\n",
       "      <td>These pants overall are very comfortable, but ...</td>\n",
       "      <td>4</td>\n",
       "      <td>1</td>\n",
       "      <td>1</td>\n",
       "      <td>General Petite</td>\n",
       "      <td>Intimate</td>\n",
       "      <td>Lounge</td>\n",
       "      <td>Good</td>\n",
       "    </tr>\n",
       "    <tr>\n",
       "      <th>23464</th>\n",
       "      <td>1104</td>\n",
       "      <td>42</td>\n",
       "      <td>Compliments</td>\n",
       "      <td>I wore this dress to work the other day and go...</td>\n",
       "      <td>5</td>\n",
       "      <td>1</td>\n",
       "      <td>3</td>\n",
       "      <td>General Petite</td>\n",
       "      <td>Dresses</td>\n",
       "      <td>Dresses</td>\n",
       "      <td>Good</td>\n",
       "    </tr>\n",
       "    <tr>\n",
       "      <th>23465</th>\n",
       "      <td>1078</td>\n",
       "      <td>41</td>\n",
       "      <td>Falls nicely</td>\n",
       "      <td>I bought this dress for work and post work hap...</td>\n",
       "      <td>5</td>\n",
       "      <td>1</td>\n",
       "      <td>0</td>\n",
       "      <td>General</td>\n",
       "      <td>Dresses</td>\n",
       "      <td>Dresses</td>\n",
       "      <td>Good</td>\n",
       "    </tr>\n",
       "    <tr>\n",
       "      <th>23466</th>\n",
       "      <td>1104</td>\n",
       "      <td>34</td>\n",
       "      <td>Cute and comfy</td>\n",
       "      <td>This dress has a great design and fits very we...</td>\n",
       "      <td>4</td>\n",
       "      <td>1</td>\n",
       "      <td>0</td>\n",
       "      <td>General Petite</td>\n",
       "      <td>Dresses</td>\n",
       "      <td>Dresses</td>\n",
       "      <td>Good</td>\n",
       "    </tr>\n",
       "    <tr>\n",
       "      <th>23467</th>\n",
       "      <td>1104</td>\n",
       "      <td>60</td>\n",
       "      <td>Super flattering!</td>\n",
       "      <td>I worry when i have an elastic waist, or somet...</td>\n",
       "      <td>5</td>\n",
       "      <td>1</td>\n",
       "      <td>23</td>\n",
       "      <td>General Petite</td>\n",
       "      <td>Dresses</td>\n",
       "      <td>Dresses</td>\n",
       "      <td>Good</td>\n",
       "    </tr>\n",
       "    <tr>\n",
       "      <th>23468</th>\n",
       "      <td>721</td>\n",
       "      <td>35</td>\n",
       "      <td>Sweet stripes</td>\n",
       "      <td>I love this little chemise! the adjustable str...</td>\n",
       "      <td>5</td>\n",
       "      <td>1</td>\n",
       "      <td>3</td>\n",
       "      <td>General Petite</td>\n",
       "      <td>Intimate</td>\n",
       "      <td>Lounge</td>\n",
       "      <td>Good</td>\n",
       "    </tr>\n",
       "    <tr>\n",
       "      <th>23469</th>\n",
       "      <td>262</td>\n",
       "      <td>50</td>\n",
       "      <td>Comfy and cute</td>\n",
       "      <td>My size was not available so based on reviews ...</td>\n",
       "      <td>4</td>\n",
       "      <td>1</td>\n",
       "      <td>0</td>\n",
       "      <td>General Petite</td>\n",
       "      <td>Intimate</td>\n",
       "      <td>Lounge</td>\n",
       "      <td>Good</td>\n",
       "    </tr>\n",
       "    <tr>\n",
       "      <th>23471</th>\n",
       "      <td>262</td>\n",
       "      <td>31</td>\n",
       "      <td>Awkward fit for me</td>\n",
       "      <td>Love the way these pants look in the pictures,...</td>\n",
       "      <td>4</td>\n",
       "      <td>1</td>\n",
       "      <td>0</td>\n",
       "      <td>General Petite</td>\n",
       "      <td>Intimate</td>\n",
       "      <td>Lounge</td>\n",
       "      <td>Good</td>\n",
       "    </tr>\n",
       "    <tr>\n",
       "      <th>23472</th>\n",
       "      <td>855</td>\n",
       "      <td>32</td>\n",
       "      <td>Perfectly drapey</td>\n",
       "      <td>I saw the shirt on the retailer website and ne...</td>\n",
       "      <td>5</td>\n",
       "      <td>1</td>\n",
       "      <td>0</td>\n",
       "      <td>General</td>\n",
       "      <td>Tops</td>\n",
       "      <td>Knits</td>\n",
       "      <td>Good</td>\n",
       "    </tr>\n",
       "    <tr>\n",
       "      <th>23473</th>\n",
       "      <td>1104</td>\n",
       "      <td>29</td>\n",
       "      <td>Perfect dress</td>\n",
       "      <td>Great quality and extremely flattering. bonus ...</td>\n",
       "      <td>5</td>\n",
       "      <td>1</td>\n",
       "      <td>1</td>\n",
       "      <td>General Petite</td>\n",
       "      <td>Dresses</td>\n",
       "      <td>Dresses</td>\n",
       "      <td>Good</td>\n",
       "    </tr>\n",
       "    <tr>\n",
       "      <th>23474</th>\n",
       "      <td>1104</td>\n",
       "      <td>32</td>\n",
       "      <td>Much better in person!</td>\n",
       "      <td>Yes, this is a great dress! i wasn't sure abou...</td>\n",
       "      <td>5</td>\n",
       "      <td>1</td>\n",
       "      <td>0</td>\n",
       "      <td>General Petite</td>\n",
       "      <td>Dresses</td>\n",
       "      <td>Dresses</td>\n",
       "      <td>Good</td>\n",
       "    </tr>\n",
       "    <tr>\n",
       "      <th>23475</th>\n",
       "      <td>1104</td>\n",
       "      <td>41</td>\n",
       "      <td>Cute dress</td>\n",
       "      <td>Cute dress but not for me.  the waist is too h...</td>\n",
       "      <td>3</td>\n",
       "      <td>1</td>\n",
       "      <td>0</td>\n",
       "      <td>General Petite</td>\n",
       "      <td>Dresses</td>\n",
       "      <td>Dresses</td>\n",
       "      <td>Bad</td>\n",
       "    </tr>\n",
       "    <tr>\n",
       "      <th>23476</th>\n",
       "      <td>522</td>\n",
       "      <td>27</td>\n",
       "      <td>Cheeky!</td>\n",
       "      <td>These bottoms are very cute but defiantly chee...</td>\n",
       "      <td>4</td>\n",
       "      <td>1</td>\n",
       "      <td>0</td>\n",
       "      <td>Initmates</td>\n",
       "      <td>Intimate</td>\n",
       "      <td>Swim</td>\n",
       "      <td>Good</td>\n",
       "    </tr>\n",
       "    <tr>\n",
       "      <th>23477</th>\n",
       "      <td>1094</td>\n",
       "      <td>39</td>\n",
       "      <td>Entrancing</td>\n",
       "      <td>I'm so impressed with the beautiful color comb...</td>\n",
       "      <td>4</td>\n",
       "      <td>1</td>\n",
       "      <td>5</td>\n",
       "      <td>General Petite</td>\n",
       "      <td>Dresses</td>\n",
       "      <td>Dresses</td>\n",
       "      <td>Good</td>\n",
       "    </tr>\n",
       "    <tr>\n",
       "      <th>23478</th>\n",
       "      <td>1104</td>\n",
       "      <td>32</td>\n",
       "      <td>Unflattering</td>\n",
       "      <td>I was surprised at the positive reviews for th...</td>\n",
       "      <td>1</td>\n",
       "      <td>0</td>\n",
       "      <td>0</td>\n",
       "      <td>General Petite</td>\n",
       "      <td>Dresses</td>\n",
       "      <td>Dresses</td>\n",
       "      <td>Bad</td>\n",
       "    </tr>\n",
       "    <tr>\n",
       "      <th>23479</th>\n",
       "      <td>1005</td>\n",
       "      <td>42</td>\n",
       "      <td>What a fun piece!</td>\n",
       "      <td>So i wasn't sure about ordering this skirt bec...</td>\n",
       "      <td>5</td>\n",
       "      <td>1</td>\n",
       "      <td>0</td>\n",
       "      <td>General Petite</td>\n",
       "      <td>Bottoms</td>\n",
       "      <td>Skirts</td>\n",
       "      <td>Good</td>\n",
       "    </tr>\n",
       "    <tr>\n",
       "      <th>23481</th>\n",
       "      <td>1104</td>\n",
       "      <td>34</td>\n",
       "      <td>Great dress for many occasions</td>\n",
       "      <td>I was very happy to snag this dress at such a ...</td>\n",
       "      <td>5</td>\n",
       "      <td>1</td>\n",
       "      <td>0</td>\n",
       "      <td>General Petite</td>\n",
       "      <td>Dresses</td>\n",
       "      <td>Dresses</td>\n",
       "      <td>Good</td>\n",
       "    </tr>\n",
       "    <tr>\n",
       "      <th>23482</th>\n",
       "      <td>862</td>\n",
       "      <td>48</td>\n",
       "      <td>Wish it was made of cotton</td>\n",
       "      <td>It reminds me of maternity clothes. soft, stre...</td>\n",
       "      <td>3</td>\n",
       "      <td>1</td>\n",
       "      <td>0</td>\n",
       "      <td>General Petite</td>\n",
       "      <td>Tops</td>\n",
       "      <td>Knits</td>\n",
       "      <td>Bad</td>\n",
       "    </tr>\n",
       "    <tr>\n",
       "      <th>23483</th>\n",
       "      <td>1104</td>\n",
       "      <td>31</td>\n",
       "      <td>Cute, but see through</td>\n",
       "      <td>This fit well, but the top was very see throug...</td>\n",
       "      <td>3</td>\n",
       "      <td>0</td>\n",
       "      <td>1</td>\n",
       "      <td>General Petite</td>\n",
       "      <td>Dresses</td>\n",
       "      <td>Dresses</td>\n",
       "      <td>Bad</td>\n",
       "    </tr>\n",
       "    <tr>\n",
       "      <th>23484</th>\n",
       "      <td>1084</td>\n",
       "      <td>28</td>\n",
       "      <td>Very cute dress, perfect for summer parties an...</td>\n",
       "      <td>I bought this dress for a wedding i have this ...</td>\n",
       "      <td>3</td>\n",
       "      <td>1</td>\n",
       "      <td>2</td>\n",
       "      <td>General</td>\n",
       "      <td>Dresses</td>\n",
       "      <td>Dresses</td>\n",
       "      <td>Bad</td>\n",
       "    </tr>\n",
       "    <tr>\n",
       "      <th>23485</th>\n",
       "      <td>1104</td>\n",
       "      <td>52</td>\n",
       "      <td>Please make more like this one!</td>\n",
       "      <td>This dress in a lovely platinum is feminine an...</td>\n",
       "      <td>5</td>\n",
       "      <td>1</td>\n",
       "      <td>22</td>\n",
       "      <td>General Petite</td>\n",
       "      <td>Dresses</td>\n",
       "      <td>Dresses</td>\n",
       "      <td>Good</td>\n",
       "    </tr>\n",
       "  </tbody>\n",
       "</table>\n",
       "<p>22641 rows × 11 columns</p>\n",
       "</div>"
      ],
      "text/plain": [
       "       Clothing_ID  Age                                              Title  \\\n",
       "0              767   33                                                NaN   \n",
       "1             1080   34                                                NaN   \n",
       "2             1077   60                            Some major design flaws   \n",
       "3             1049   50                                   My favorite buy!   \n",
       "4              847   47                                   Flattering shirt   \n",
       "5             1080   49                            Not for the very petite   \n",
       "6              858   39                               Cagrcoal shimmer fun   \n",
       "7              858   39               Shimmer, surprisingly goes with lots   \n",
       "8             1077   24                                         Flattering   \n",
       "9             1077   34                                  Such a fun dress!   \n",
       "10            1077   53       Dress looks like it's made of cheap material   \n",
       "11            1095   39                                                NaN   \n",
       "12            1095   53                                         Perfect!!!   \n",
       "13             767   44                                           Runs big   \n",
       "14            1077   50                Pretty party dress with some issues   \n",
       "15            1065   47                          Nice, but not for my body   \n",
       "16            1065   34  You need to be at least average height, or taller   \n",
       "17             853   41                       Looks great with white pants   \n",
       "18            1120   32                                Super cute and cozy   \n",
       "19            1077   47                            Stylish and comfortable   \n",
       "20             847   33                                  Cute, crisp shirt   \n",
       "21            1080   55                                          I'm torn!   \n",
       "22            1077   31                             Not what it looks like   \n",
       "23            1077   34                        Like it, but don't love it.   \n",
       "24             847   55                                          Versatile   \n",
       "25             697   31                                         Falls flat   \n",
       "26             949   33                                Huge disappointment   \n",
       "27            1003   31                                Loved, but returned   \n",
       "28             684   53                                     Great shirt!!!   \n",
       "29               4   28                               Great layering piece   \n",
       "...            ...  ...                                                ...   \n",
       "23454          999   39                        Not exactly what i expected   \n",
       "23455         1104   35                                         Cute dress   \n",
       "23456         1104   35                Flattering and lovely sweater dress   \n",
       "23457          262   49                                           Adorable   \n",
       "23458          862   63                                                NaN   \n",
       "23459         1094   57                                Perfect except slip   \n",
       "23460         1078   34                                   Such high hopes!   \n",
       "23461          262   49         Comfortable but not super-flattering on me   \n",
       "23462          999   24                                           Its okay   \n",
       "23463          262   65                                        Comfy pants   \n",
       "23464         1104   42                                        Compliments   \n",
       "23465         1078   41                                       Falls nicely   \n",
       "23466         1104   34                                     Cute and comfy   \n",
       "23467         1104   60                                  Super flattering!   \n",
       "23468          721   35                                      Sweet stripes   \n",
       "23469          262   50                                     Comfy and cute   \n",
       "23471          262   31                                 Awkward fit for me   \n",
       "23472          855   32                                   Perfectly drapey   \n",
       "23473         1104   29                                      Perfect dress   \n",
       "23474         1104   32                             Much better in person!   \n",
       "23475         1104   41                                         Cute dress   \n",
       "23476          522   27                                            Cheeky!   \n",
       "23477         1094   39                                         Entrancing   \n",
       "23478         1104   32                                       Unflattering   \n",
       "23479         1005   42                                  What a fun piece!   \n",
       "23481         1104   34                     Great dress for many occasions   \n",
       "23482          862   48                         Wish it was made of cotton   \n",
       "23483         1104   31                              Cute, but see through   \n",
       "23484         1084   28  Very cute dress, perfect for summer parties an...   \n",
       "23485         1104   52                    Please make more like this one!   \n",
       "\n",
       "                                             Review_Text  Rating  \\\n",
       "0      Absolutely wonderful - silky and sexy and comf...       4   \n",
       "1      Love this dress!  it's sooo pretty.  i happene...       5   \n",
       "2      I had such high hopes for this dress and reall...       3   \n",
       "3      I love, love, love this jumpsuit. it's fun, fl...       5   \n",
       "4      This shirt is very flattering to all due to th...       5   \n",
       "5      I love tracy reese dresses, but this one is no...       2   \n",
       "6      I aded this in my basket at hte last mintue to...       5   \n",
       "7      I ordered this in carbon for store pick up, an...       4   \n",
       "8      I love this dress. i usually get an xs but it ...       5   \n",
       "9      I'm 5\"5' and 125 lbs. i ordered the s petite t...       5   \n",
       "10     Dress runs small esp where the zipper area run...       3   \n",
       "11     This dress is perfection! so pretty and flatte...       5   \n",
       "12     More and more i find myself reliant on the rev...       5   \n",
       "13     Bought the black xs to go under the larkspur m...       5   \n",
       "14     This is a nice choice for holiday gatherings. ...       3   \n",
       "15     I took these out of the package and wanted the...       4   \n",
       "16     Material and color is nice.  the leg opening i...       3   \n",
       "17     Took a chance on this blouse and so glad i did...       5   \n",
       "18     A flattering, super cozy coat.  will work well...       5   \n",
       "19     I love the look and feel of this tulle dress. ...       5   \n",
       "20     If this product was in petite, i would get the...       4   \n",
       "21     I'm upset because for the price of the dress, ...       4   \n",
       "22     First of all, this is not pullover styling. th...       2   \n",
       "23     Cute little dress fits tts. it is a little hig...       3   \n",
       "24     I love this shirt because when i first saw it,...       5   \n",
       "25     Loved the material, but i didnt really look at...       3   \n",
       "26     I have been waiting for this sweater coat to s...       2   \n",
       "27     The colors weren't what i expected either. the...       4   \n",
       "28     I have several of goodhyouman shirts and i get...       5   \n",
       "29     This sweater is so comfy and classic - it bala...       5   \n",
       "...                                                  ...     ...   \n",
       "23454  The fabric is very thick and textured almost l...       4   \n",
       "23455  This is a very cute dress that i did not keep....       4   \n",
       "23456  I have been on a search for a dress with sleev...       5   \n",
       "23457  These pants are soft, fun print and comfy. the...       5   \n",
       "23458  This is my new favorite sweater. it is lightwe...       5   \n",
       "23459  This is my new favorite dress! my only complai...       4   \n",
       "23460  I purchased this for a very good price and i t...       3   \n",
       "23461  I tried these on at the store and the fit was ...       4   \n",
       "23462  The pattern of this skirt is adorable and look...       3   \n",
       "23463  These pants overall are very comfortable, but ...       4   \n",
       "23464  I wore this dress to work the other day and go...       5   \n",
       "23465  I bought this dress for work and post work hap...       5   \n",
       "23466  This dress has a great design and fits very we...       4   \n",
       "23467  I worry when i have an elastic waist, or somet...       5   \n",
       "23468  I love this little chemise! the adjustable str...       5   \n",
       "23469  My size was not available so based on reviews ...       4   \n",
       "23471  Love the way these pants look in the pictures,...       4   \n",
       "23472  I saw the shirt on the retailer website and ne...       5   \n",
       "23473  Great quality and extremely flattering. bonus ...       5   \n",
       "23474  Yes, this is a great dress! i wasn't sure abou...       5   \n",
       "23475  Cute dress but not for me.  the waist is too h...       3   \n",
       "23476  These bottoms are very cute but defiantly chee...       4   \n",
       "23477  I'm so impressed with the beautiful color comb...       4   \n",
       "23478  I was surprised at the positive reviews for th...       1   \n",
       "23479  So i wasn't sure about ordering this skirt bec...       5   \n",
       "23481  I was very happy to snag this dress at such a ...       5   \n",
       "23482  It reminds me of maternity clothes. soft, stre...       3   \n",
       "23483  This fit well, but the top was very see throug...       3   \n",
       "23484  I bought this dress for a wedding i have this ...       3   \n",
       "23485  This dress in a lovely platinum is feminine an...       5   \n",
       "\n",
       "       Recommended_IND  Positive_Feedback_Count   Division_Name  \\\n",
       "0                    1                        0       Initmates   \n",
       "1                    1                        4         General   \n",
       "2                    0                        0         General   \n",
       "3                    1                        0  General Petite   \n",
       "4                    1                        6         General   \n",
       "5                    0                        4         General   \n",
       "6                    1                        1  General Petite   \n",
       "7                    1                        4  General Petite   \n",
       "8                    1                        0         General   \n",
       "9                    1                        0         General   \n",
       "10                   0                       14         General   \n",
       "11                   1                        2  General Petite   \n",
       "12                   1                        2  General Petite   \n",
       "13                   1                        0       Initmates   \n",
       "14                   1                        1         General   \n",
       "15                   1                        3         General   \n",
       "16                   1                        2         General   \n",
       "17                   1                        0         General   \n",
       "18                   1                        0         General   \n",
       "19                   1                        0         General   \n",
       "20                   1                        2         General   \n",
       "21                   1                       14         General   \n",
       "22                   0                        7         General   \n",
       "23                   1                        0         General   \n",
       "24                   1                        0         General   \n",
       "25                   0                        0       Initmates   \n",
       "26                   0                        0         General   \n",
       "27                   1                        0         General   \n",
       "28                   1                        2       Initmates   \n",
       "29                   1                        0         General   \n",
       "...                ...                      ...             ...   \n",
       "23454                1                        1         General   \n",
       "23455                1                        1  General Petite   \n",
       "23456                1                        3  General Petite   \n",
       "23457                1                        3  General Petite   \n",
       "23458                1                        0  General Petite   \n",
       "23459                1                        3  General Petite   \n",
       "23460                0                        0         General   \n",
       "23461                1                        1  General Petite   \n",
       "23462                1                        0         General   \n",
       "23463                1                        1  General Petite   \n",
       "23464                1                        3  General Petite   \n",
       "23465                1                        0         General   \n",
       "23466                1                        0  General Petite   \n",
       "23467                1                       23  General Petite   \n",
       "23468                1                        3  General Petite   \n",
       "23469                1                        0  General Petite   \n",
       "23471                1                        0  General Petite   \n",
       "23472                1                        0         General   \n",
       "23473                1                        1  General Petite   \n",
       "23474                1                        0  General Petite   \n",
       "23475                1                        0  General Petite   \n",
       "23476                1                        0       Initmates   \n",
       "23477                1                        5  General Petite   \n",
       "23478                0                        0  General Petite   \n",
       "23479                1                        0  General Petite   \n",
       "23481                1                        0  General Petite   \n",
       "23482                1                        0  General Petite   \n",
       "23483                0                        1  General Petite   \n",
       "23484                1                        2         General   \n",
       "23485                1                       22  General Petite   \n",
       "\n",
       "      Department_Name Class_Name Class  \n",
       "0            Intimate  Intimates  Good  \n",
       "1             Dresses    Dresses  Good  \n",
       "2             Dresses    Dresses   Bad  \n",
       "3             Bottoms      Pants  Good  \n",
       "4                Tops    Blouses  Good  \n",
       "5             Dresses    Dresses   Bad  \n",
       "6                Tops      Knits  Good  \n",
       "7                Tops      Knits  Good  \n",
       "8             Dresses    Dresses  Good  \n",
       "9             Dresses    Dresses  Good  \n",
       "10            Dresses    Dresses   Bad  \n",
       "11            Dresses    Dresses  Good  \n",
       "12            Dresses    Dresses  Good  \n",
       "13           Intimate  Intimates  Good  \n",
       "14            Dresses    Dresses   Bad  \n",
       "15            Bottoms      Pants  Good  \n",
       "16            Bottoms      Pants   Bad  \n",
       "17               Tops    Blouses  Good  \n",
       "18            Jackets  Outerwear  Good  \n",
       "19            Dresses    Dresses  Good  \n",
       "20               Tops    Blouses  Good  \n",
       "21            Dresses    Dresses  Good  \n",
       "22            Dresses    Dresses   Bad  \n",
       "23            Dresses    Dresses   Bad  \n",
       "24               Tops    Blouses  Good  \n",
       "25           Intimate     Lounge   Bad  \n",
       "26               Tops   Sweaters   Bad  \n",
       "27            Bottoms     Skirts  Good  \n",
       "28           Intimate     Lounge  Good  \n",
       "29               Tops   Sweaters  Good  \n",
       "...               ...        ...   ...  \n",
       "23454         Bottoms     Skirts  Good  \n",
       "23455         Dresses    Dresses  Good  \n",
       "23456         Dresses    Dresses  Good  \n",
       "23457        Intimate     Lounge  Good  \n",
       "23458            Tops      Knits  Good  \n",
       "23459         Dresses    Dresses  Good  \n",
       "23460         Dresses    Dresses   Bad  \n",
       "23461        Intimate     Lounge  Good  \n",
       "23462         Bottoms     Skirts   Bad  \n",
       "23463        Intimate     Lounge  Good  \n",
       "23464         Dresses    Dresses  Good  \n",
       "23465         Dresses    Dresses  Good  \n",
       "23466         Dresses    Dresses  Good  \n",
       "23467         Dresses    Dresses  Good  \n",
       "23468        Intimate     Lounge  Good  \n",
       "23469        Intimate     Lounge  Good  \n",
       "23471        Intimate     Lounge  Good  \n",
       "23472            Tops      Knits  Good  \n",
       "23473         Dresses    Dresses  Good  \n",
       "23474         Dresses    Dresses  Good  \n",
       "23475         Dresses    Dresses   Bad  \n",
       "23476        Intimate       Swim  Good  \n",
       "23477         Dresses    Dresses  Good  \n",
       "23478         Dresses    Dresses   Bad  \n",
       "23479         Bottoms     Skirts  Good  \n",
       "23481         Dresses    Dresses  Good  \n",
       "23482            Tops      Knits   Bad  \n",
       "23483         Dresses    Dresses   Bad  \n",
       "23484         Dresses    Dresses   Bad  \n",
       "23485         Dresses    Dresses  Good  \n",
       "\n",
       "[22641 rows x 11 columns]"
      ]
     },
     "execution_count": 43,
     "metadata": {},
     "output_type": "execute_result"
    }
   ],
   "source": [
    "data_raw"
   ]
  },
  {
   "cell_type": "code",
   "execution_count": 44,
   "metadata": {
    "collapsed": true
   },
   "outputs": [
    {
     "name": "stderr",
     "output_type": "stream",
     "text": [
      "[nltk_data] Downloading package wordnet to\n",
      "[nltk_data]     C:\\Users\\Vinay\\AppData\\Roaming\\nltk_data...\n",
      "[nltk_data]   Package wordnet is already up-to-date!\n"
     ]
    }
   ],
   "source": [
    "from wordcloud import WordCloud\n",
    "nltk.download('wordnet')\n",
    "\n",
    "def clean(review):\n",
    "    text = review.lower()\n",
    "    \n",
    "    tokenizer = nltk.tokenize.TreebankWordTokenizer()\n",
    "    tokens = tokenizer.tokenize(text)\n",
    "    \n",
    "    stemmer = nltk.stem.WordNetLemmatizer()\n",
    "    text = \" \".join(stemmer.lemmatize(token) for token in tokens)\n",
    "    text = re.sub(\"[^a-z']\",\" \", text)\n",
    "    \n",
    "    # Removing words having punctuation marks\n",
    "    \n",
    "    words1 = []\n",
    "    for word in text:\n",
    "        if word not in string.punctuation:\n",
    "            words1.append(word)\n",
    "    words1 = ''.join(words1)\n",
    "    \n",
    "    # Removing words which are stopwords, numbers and words having length <= 2\n",
    "    \n",
    "    words2 = []\n",
    "    for word in words1.split():\n",
    "        word = word.lower()\n",
    "        if word not in stopwords.words('english'):\n",
    "            if not re.search('\\d', word):\n",
    "                if len(word) > 2:\n",
    "                    words2.append(word)\n",
    "    \n",
    "    return words2\n",
    "data_raw[\"Clean_Review\"] = data_raw[\"Review_Text\"].apply(clean)"
   ]
  },
  {
   "cell_type": "code",
   "execution_count": 45,
   "metadata": {
    "collapsed": true
   },
   "outputs": [
    {
     "name": "stderr",
     "output_type": "stream",
     "text": [
      "C:\\Users\\Vinay\\Anaconda3\\lib\\site-packages\\ipykernel_launcher.py:2: UserWarning: Pandas doesn't allow columns to be created via a new attribute name - see https://pandas.pydata.org/pandas-docs/stable/indexing.html#attribute-access\n",
      "  \n"
     ]
    }
   ],
   "source": [
    "data_raw = data_raw[data_raw.Rating !=3]\n",
    "data_raw.Sentiment = data_raw.Rating >=4"
   ]
  },
  {
   "cell_type": "markdown",
   "metadata": {},
   "source": [
    "## Analysing the Text Review"
   ]
  },
  {
   "cell_type": "markdown",
   "metadata": {},
   "source": [
    "### Most Common Words"
   ]
  },
  {
   "cell_type": "code",
   "execution_count": 46,
   "metadata": {},
   "outputs": [],
   "source": [
    "positive_reviews = data_raw[data_raw.Sentiment == True]\n",
    "negative_reviews = data_raw[data_raw.Sentiment == False]"
   ]
  },
  {
   "cell_type": "markdown",
   "metadata": {},
   "source": [
    "**Most Common Words in Positive Reviews**"
   ]
  },
  {
   "cell_type": "code",
   "execution_count": 47,
   "metadata": {},
   "outputs": [],
   "source": [
    "ls1 = []\n",
    "for words in list(positive_reviews['Clean_Review']):\n",
    "    for word in words:\n",
    "        ls1.append(word)"
   ]
  },
  {
   "cell_type": "code",
   "execution_count": 48,
   "metadata": {
    "scrolled": true
   },
   "outputs": [
    {
     "name": "stdout",
     "output_type": "stream",
     "text": [
      "1.  dress  -  8630\n",
      "2.  fit  -  8187\n",
      "3.  love  -  7789\n",
      "4.  size  -  7472\n",
      "5.  top  -  6065\n",
      "6.  wear  -  5475\n",
      "7.  great  -  5417\n",
      "8.  color  -  5312\n",
      "9.  like  -  4950\n",
      "10.  look  -  4944\n"
     ]
    }
   ],
   "source": [
    "from collections import Counter\n",
    "top10 = Counter(ls1).most_common()[:10]\n",
    "i=1\n",
    "for key, value in top10:\n",
    "    print(str(i) + '. ', key, ' - ', value)\n",
    "    i = i + 1"
   ]
  },
  {
   "cell_type": "code",
   "execution_count": 49,
   "metadata": {},
   "outputs": [
    {
     "name": "stdout",
     "output_type": "stream",
     "text": [
      "['dress', 'fit', 'love', 'size', 'top', 'wear', 'great', 'color', 'like', 'look']\n"
     ]
    },
    {
     "data": {
      "image/png": "[encoded data removed]",
      "text/plain": [
       "<Figure size 720x504 with 1 Axes>"
      ]
     },
     "metadata": {},
     "output_type": "display_data"
    }
   ],
   "source": [
    "f, ax = plt.subplots(figsize=(10,7))\n",
    "x_val = [x[0] for x in top10]\n",
    "y_val = [x[1] for x in top10]\n",
    "\n",
    "print(x_val)\n",
    "plt.bar(x_val,y_val)\n",
    "plt.xlabel('Words')\n",
    "plt.ylabel('Count')\n",
    "plt.title('Most Common Words in Positive Reviews')\n",
    "plt.show()"
   ]
  },
  {
   "cell_type": "markdown",
   "metadata": {},
   "source": [
    "**Most Common Words in Negative Reviews**"
   ]
  },
  {
   "cell_type": "code",
   "execution_count": 50,
   "metadata": {},
   "outputs": [],
   "source": [
    "ls2 = []\n",
    "for words in list(negative_reviews['Clean_Review']):\n",
    "    for word in words:\n",
    "        ls2.append(word)"
   ]
  },
  {
   "cell_type": "code",
   "execution_count": 51,
   "metadata": {},
   "outputs": [
    {
     "name": "stdout",
     "output_type": "stream",
     "text": [
      "1.  dress  -  1192\n",
      "2.  like  -  1078\n",
      "3.  look  -  911\n",
      "4.  top  -  889\n",
      "5.  would  -  803\n",
      "6.  fit  -  770\n",
      "7.  size  -  759\n",
      "8.  fabric  -  726\n",
      "9.  back  -  615\n",
      "10.  color  -  532\n"
     ]
    }
   ],
   "source": [
    "from collections import Counter\n",
    "top10 = Counter(ls2).most_common()[:10]\n",
    "i=1\n",
    "for key, value in top10:\n",
    "    print(str(i) + '. ', key, ' - ', value)\n",
    "    i = i + 1"
   ]
  },
  {
   "cell_type": "code",
   "execution_count": 52,
   "metadata": {},
   "outputs": [
    {
     "name": "stdout",
     "output_type": "stream",
     "text": [
      "['dress', 'like', 'look', 'top', 'would', 'fit', 'size', 'fabric', 'back', 'color']\n"
     ]
    },
    {
     "data": {
      "image/png": "[encoded data removed]",
      "text/plain": [
       "<Figure size 720x504 with 1 Axes>"
      ]
     },
     "metadata": {},
     "output_type": "display_data"
    }
   ],
   "source": [
    "f, ax = plt.subplots(figsize=(10,7))\n",
    "x_val = [x[0] for x in top10]\n",
    "y_val = [x[1] for x in top10]\n",
    "\n",
    "print(x_val)\n",
    "plt.bar(x_val,y_val)\n",
    "plt.xlabel('Words')\n",
    "plt.ylabel('Count')\n",
    "plt.title('Most Common Words in Negative Reviews')\n",
    "plt.show()"
   ]
  },
  {
   "cell_type": "markdown",
   "metadata": {},
   "source": [
    "Inferences:\n",
    "\n",
    "    1. 'Dress' word is the most common word in both positive and negative reviews.\n",
    "    2. As there are more good reviews than bad reviews, the count of each word in good reviews is more."
   ]
  },
  {
   "cell_type": "markdown",
   "metadata": {},
   "source": [
    "## 4. Developing Models"
   ]
  },
  {
   "cell_type": "markdown",
   "metadata": {},
   "source": [
    "### Training and Testing"
   ]
  },
  {
   "cell_type": "code",
   "execution_count": 53,
   "metadata": {},
   "outputs": [],
   "source": [
    "vectorizer = CountVectorizer()\n",
    "x = vectorizer.fit_transform(data_raw['Review_Text'])\n",
    "y = data_raw['Recommended_IND']"
   ]
  },
  {
   "cell_type": "code",
   "execution_count": 54,
   "metadata": {},
   "outputs": [],
   "source": [
    "x_train, x_test, y_train, y_test = train_test_split(x, y, test_size = 0.3, random_state=0)"
   ]
  },
  {
   "cell_type": "markdown",
   "metadata": {},
   "source": [
    "### Bernoulli Naive Bayes"
   ]
  },
  {
   "cell_type": "code",
   "execution_count": 55,
   "metadata": {},
   "outputs": [],
   "source": [
    "bnb = BernoulliNB() \n",
    "bnb.fit(x_train,y_train)\n",
    "bnb_pred = bnb.predict(x_test)"
   ]
  },
  {
   "cell_type": "code",
   "execution_count": 56,
   "metadata": {},
   "outputs": [
    {
     "data": {
      "text/plain": [
       "array([[ 387,  343],\n",
       "       [ 197, 5019]], dtype=int64)"
      ]
     },
     "execution_count": 56,
     "metadata": {},
     "output_type": "execute_result"
    }
   ],
   "source": [
    "bnb_cm=confusion_matrix(y_test.values, bnb_pred)\n",
    "bnb_cm"
   ]
  },
  {
   "cell_type": "code",
   "execution_count": 57,
   "metadata": {},
   "outputs": [
    {
     "data": {
      "text/plain": [
       "0.9091826437941474"
      ]
     },
     "execution_count": 57,
     "metadata": {},
     "output_type": "execute_result"
    }
   ],
   "source": [
    "accuracy_score(y_test, bnb_pred)"
   ]
  },
  {
   "cell_type": "markdown",
   "metadata": {},
   "source": [
    "### Multinomial Naive Bayes"
   ]
  },
  {
   "cell_type": "code",
   "execution_count": 58,
   "metadata": {},
   "outputs": [],
   "source": [
    "mnb = MultinomialNB() \n",
    "mnb.fit(x_train,y_train)\n",
    "mnb_pred = mnb.predict(x_test)"
   ]
  },
  {
   "cell_type": "code",
   "execution_count": 59,
   "metadata": {},
   "outputs": [
    {
     "data": {
      "text/plain": [
       "array([[ 459,  271],\n",
       "       [ 155, 5061]], dtype=int64)"
      ]
     },
     "execution_count": 59,
     "metadata": {},
     "output_type": "execute_result"
    }
   ],
   "source": [
    "mnb_cm=confusion_matrix(y_test.values, mnb_pred)\n",
    "mnb_cm"
   ]
  },
  {
   "cell_type": "code",
   "execution_count": 60,
   "metadata": {},
   "outputs": [
    {
     "data": {
      "image/png": "[encoded data removed]",
      "text/plain": [
       "<Figure size 864x504 with 2 Axes>"
      ]
     },
     "metadata": {},
     "output_type": "display_data"
    }
   ],
   "source": [
    "sns.heatmap(mnb_cm, annot = True);"
   ]
  },
  {
   "cell_type": "code",
   "execution_count": 61,
   "metadata": {},
   "outputs": [
    {
     "data": {
      "text/plain": [
       "0.9283551967709385"
      ]
     },
     "execution_count": 61,
     "metadata": {},
     "output_type": "execute_result"
    }
   ],
   "source": [
    "accuracy_score(y_test, mnb_pred)"
   ]
  },
  {
   "cell_type": "markdown",
   "metadata": {},
   "source": [
    "### Logistic Regression"
   ]
  },
  {
   "cell_type": "code",
   "execution_count": 62,
   "metadata": {
    "collapsed": true
   },
   "outputs": [
    {
     "name": "stderr",
     "output_type": "stream",
     "text": [
      "C:\\Users\\Vinay\\Anaconda3\\lib\\site-packages\\sklearn\\linear_model\\logistic.py:433: FutureWarning: Default solver will be changed to 'lbfgs' in 0.22. Specify a solver to silence this warning.\n",
      "  FutureWarning)\n"
     ]
    }
   ],
   "source": [
    "lr = LogisticRegression() \n",
    "lr.fit(x_train,y_train)\n",
    "lr_pred = lr.predict(x_test)"
   ]
  },
  {
   "cell_type": "code",
   "execution_count": 63,
   "metadata": {},
   "outputs": [
    {
     "data": {
      "text/plain": [
       "array([[ 441,  289],\n",
       "       [ 159, 5057]], dtype=int64)"
      ]
     },
     "execution_count": 63,
     "metadata": {},
     "output_type": "execute_result"
    }
   ],
   "source": [
    "lr_cm=confusion_matrix(y_test.values, lr_pred)\n",
    "lr_cm"
   ]
  },
  {
   "cell_type": "code",
   "execution_count": 64,
   "metadata": {},
   "outputs": [
    {
     "data": {
      "text/plain": [
       "0.9246552304069963"
      ]
     },
     "execution_count": 64,
     "metadata": {},
     "output_type": "execute_result"
    }
   ],
   "source": [
    "accuracy_score(y_test, lr_pred)"
   ]
  },
  {
   "cell_type": "markdown",
   "metadata": {},
   "source": [
    "### XGBoost"
   ]
  },
  {
   "cell_type": "code",
   "execution_count": 65,
   "metadata": {},
   "outputs": [],
   "source": [
    "xgb = XGBClassifier()\n",
    "xgb.fit(x_train,y_train)\n",
    "xgb_pred = xgb.predict(x_test)"
   ]
  },
  {
   "cell_type": "code",
   "execution_count": 66,
   "metadata": {},
   "outputs": [
    {
     "data": {
      "text/plain": [
       "array([[ 362,  368],\n",
       "       [  89, 5127]], dtype=int64)"
      ]
     },
     "execution_count": 66,
     "metadata": {},
     "output_type": "execute_result"
    }
   ],
   "source": [
    "xgb_cm=confusion_matrix(y_test.values, xgb_pred)\n",
    "xgb_cm"
   ]
  },
  {
   "cell_type": "code",
   "execution_count": 67,
   "metadata": {},
   "outputs": [
    {
     "data": {
      "text/plain": [
       "0.9231416078035655"
      ]
     },
     "execution_count": 67,
     "metadata": {},
     "output_type": "execute_result"
    }
   ],
   "source": [
    "accuracy_score(y_test, xgb_pred)"
   ]
  },
  {
   "cell_type": "markdown",
   "metadata": {},
   "source": [
    "### Decision Tree"
   ]
  },
  {
   "cell_type": "code",
   "execution_count": 68,
   "metadata": {},
   "outputs": [],
   "source": [
    "dt = DecisionTreeClassifier()\n",
    "dt.fit(x_train,y_train)\n",
    "dt_pred = dt.predict(x_test)"
   ]
  },
  {
   "cell_type": "code",
   "execution_count": 69,
   "metadata": {},
   "outputs": [
    {
     "data": {
      "text/plain": [
       "array([[ 288,  442],\n",
       "       [ 382, 4834]], dtype=int64)"
      ]
     },
     "execution_count": 69,
     "metadata": {},
     "output_type": "execute_result"
    }
   ],
   "source": [
    "dt_cm=confusion_matrix(y_test.values, dt_pred)\n",
    "dt_cm"
   ]
  },
  {
   "cell_type": "code",
   "execution_count": 70,
   "metadata": {},
   "outputs": [
    {
     "data": {
      "text/plain": [
       "0.8614194416414396"
      ]
     },
     "execution_count": 70,
     "metadata": {},
     "output_type": "execute_result"
    }
   ],
   "source": [
    "accuracy_score(y_test, dt_pred)"
   ]
  },
  {
   "cell_type": "markdown",
   "metadata": {},
   "source": [
    "### K-Means"
   ]
  },
  {
   "cell_type": "code",
   "execution_count": 71,
   "metadata": {},
   "outputs": [],
   "source": [
    "km = KNeighborsClassifier()\n",
    "km.fit(x_train,y_train)\n",
    "km_pred = km.predict(x_test)"
   ]
  },
  {
   "cell_type": "code",
   "execution_count": 72,
   "metadata": {},
   "outputs": [
    {
     "data": {
      "text/plain": [
       "array([[  77,  653],\n",
       "       [  86, 5130]], dtype=int64)"
      ]
     },
     "execution_count": 72,
     "metadata": {},
     "output_type": "execute_result"
    }
   ],
   "source": [
    "km_cm=confusion_matrix(y_test.values, km_pred)\n",
    "km_cm"
   ]
  },
  {
   "cell_type": "code",
   "execution_count": 73,
   "metadata": {},
   "outputs": [
    {
     "data": {
      "text/plain": [
       "0.8757147662293979"
      ]
     },
     "execution_count": 73,
     "metadata": {},
     "output_type": "execute_result"
    }
   ],
   "source": [
    "accuracy_score(y_test, km_pred)"
   ]
  },
  {
   "cell_type": "markdown",
   "metadata": {},
   "source": [
    "### Random Forest"
   ]
  },
  {
   "cell_type": "code",
   "execution_count": 74,
   "metadata": {
    "collapsed": true
   },
   "outputs": [
    {
     "name": "stderr",
     "output_type": "stream",
     "text": [
      "C:\\Users\\Vinay\\Anaconda3\\lib\\site-packages\\sklearn\\ensemble\\forest.py:246: FutureWarning: The default value of n_estimators will change from 10 in version 0.20 to 100 in 0.22.\n",
      "  \"10 in version 0.20 to 100 in 0.22.\", FutureWarning)\n"
     ]
    }
   ],
   "source": [
    "rf = RandomForestClassifier()\n",
    "rf.fit(x_train,y_train)\n",
    "rf_pred = rf.predict(x_test)"
   ]
  },
  {
   "cell_type": "code",
   "execution_count": 75,
   "metadata": {},
   "outputs": [
    {
     "data": {
      "text/plain": [
       "array([[ 146,  584],\n",
       "       [  54, 5162]], dtype=int64)"
      ]
     },
     "execution_count": 75,
     "metadata": {},
     "output_type": "execute_result"
    }
   ],
   "source": [
    "rf_cm=confusion_matrix(y_test.values, rf_pred)\n",
    "rf_cm"
   ]
  },
  {
   "cell_type": "code",
   "execution_count": 76,
   "metadata": {},
   "outputs": [
    {
     "data": {
      "text/plain": [
       "0.8927009754456777"
      ]
     },
     "execution_count": 76,
     "metadata": {},
     "output_type": "execute_result"
    }
   ],
   "source": [
    "accuracy_score(y_test, rf_pred)"
   ]
  },
  {
   "cell_type": "markdown",
   "metadata": {},
   "source": [
    "### SVM"
   ]
  },
  {
   "cell_type": "code",
   "execution_count": 77,
   "metadata": {
    "collapsed": true
   },
   "outputs": [
    {
     "name": "stderr",
     "output_type": "stream",
     "text": [
      "C:\\Users\\Vinay\\Anaconda3\\lib\\site-packages\\sklearn\\linear_model\\stochastic_gradient.py:166: FutureWarning: max_iter and tol parameters have been added in SGDClassifier in 0.19. If both are left unset, they default to max_iter=5 and tol=None. If tol is not None, max_iter defaults to max_iter=1000. From 0.21, default max_iter will be 1000, and default tol will be 1e-3.\n",
      "  FutureWarning)\n"
     ]
    }
   ],
   "source": [
    "svm = SGDClassifier()\n",
    "svm.fit(x_train,y_train)\n",
    "svm_pred = svm.predict(x_test)"
   ]
  },
  {
   "cell_type": "code",
   "execution_count": 78,
   "metadata": {},
   "outputs": [
    {
     "data": {
      "text/plain": [
       "array([[ 308,  422],\n",
       "       [  78, 5138]], dtype=int64)"
      ]
     },
     "execution_count": 78,
     "metadata": {},
     "output_type": "execute_result"
    }
   ],
   "source": [
    "svm_cm=confusion_matrix(y_test.values, svm_pred)\n",
    "svm_cm"
   ]
  },
  {
   "cell_type": "code",
   "execution_count": 79,
   "metadata": {},
   "outputs": [
    {
     "data": {
      "text/plain": [
       "0.9159098553649512"
      ]
     },
     "execution_count": 79,
     "metadata": {},
     "output_type": "execute_result"
    }
   ],
   "source": [
    "accuracy_score(y_test, svm_pred)"
   ]
  },
  {
   "cell_type": "markdown",
   "metadata": {},
   "source": [
    "### Neural Network"
   ]
  },
  {
   "cell_type": "code",
   "execution_count": 80,
   "metadata": {},
   "outputs": [],
   "source": [
    "nn = MLPClassifier()\n",
    "nn.fit(x_train,y_train)\n",
    "nn_pred = nn.predict(x_test)"
   ]
  },
  {
   "cell_type": "code",
   "execution_count": 81,
   "metadata": {},
   "outputs": [
    {
     "data": {
      "text/plain": [
       "array([[ 462,  268],\n",
       "       [ 185, 5031]], dtype=int64)"
      ]
     },
     "execution_count": 81,
     "metadata": {},
     "output_type": "execute_result"
    }
   ],
   "source": [
    "nn_cm=confusion_matrix(y_test.values, nn_pred)\n",
    "nn_cm"
   ]
  },
  {
   "cell_type": "code",
   "execution_count": 82,
   "metadata": {},
   "outputs": [
    {
     "data": {
      "text/plain": [
       "0.9238143289606459"
      ]
     },
     "execution_count": 82,
     "metadata": {},
     "output_type": "execute_result"
    }
   ],
   "source": [
    "accuracy_score(y_test, nn_pred)"
   ]
  },
  {
   "cell_type": "markdown",
   "metadata": {},
   "source": [
    "## ROC Curves and AUC"
   ]
  },
  {
   "cell_type": "code",
   "execution_count": 83,
   "metadata": {},
   "outputs": [],
   "source": [
    "pred_bnb = bnb.predict_proba(x_test)[:,1]\n",
    "fpr_bnb,tpr_bnb,_ = roc_curve(y_test,pred_bnb)\n",
    "roc_auc_bnb = auc(fpr_bnb,tpr_bnb)\n",
    "\n",
    "pred_mnb = mnb.predict_proba(x_test)[:,1]\n",
    "fpr_mnb,tpr_mnb,_ = roc_curve(y_test,pred_mnb)\n",
    "roc_auc_mnb = auc(fpr_mnb,tpr_mnb)\n",
    "\n",
    "pred_lr = lr.predict_proba(x_test)[:,1]\n",
    "fpr_lr,tpr_lr,_ = roc_curve(y_test,pred_lr)\n",
    "roc_auc_lr = auc(fpr_lr,tpr_lr)\n",
    "\n",
    "pred_xgb = xgb.predict_proba(x_test)[:,1]\n",
    "fpr_xgb,tpr_xgb,_ = roc_curve(y_test,pred_xgb)\n",
    "roc_auc_xgb = auc(fpr_xgb,tpr_xgb)\n",
    "\n",
    "pred_dt = dt.predict_proba(x_test)[:,1]\n",
    "fpr_dt,tpr_dt,_ = roc_curve(y_test,pred_dt)\n",
    "roc_auc_dt = auc(fpr_dt,tpr_dt)\n",
    "\n",
    "pred_km = km.predict_proba(x_test)[:,1]\n",
    "fpr_km,tpr_km,_ = roc_curve(y_test,pred_km)\n",
    "roc_auc_km = auc(fpr_km,tpr_km)\n",
    "\n",
    "pred_rf = rf.predict_proba(x_test)[:,1]\n",
    "fpr_rf,tpr_rf,_ = roc_curve(y_test,pred_rf)\n",
    "roc_auc_rf = auc(fpr_rf,tpr_rf)\n",
    "\n",
    "pred_svm = svm.decision_function(x_test)\n",
    "fpr_svm,tpr_svm,_ = roc_curve(y_test,pred_svm)\n",
    "roc_auc_svm = auc(fpr_svm,tpr_svm)\n",
    "\n",
    "pred_nn = nn.predict_proba(x_test)[:,1]\n",
    "fpr_nn,tpr_nn,_ = roc_curve(y_test,pred_nn)\n",
    "roc_auc_nn = auc(fpr_nn,tpr_nn)"
   ]
  },
  {
   "cell_type": "code",
   "execution_count": 84,
   "metadata": {},
   "outputs": [
    {
     "data": {
      "text/plain": [
       "<matplotlib.legend.Legend at 0x21207ed8f98>"
      ]
     },
     "execution_count": 84,
     "metadata": {},
     "output_type": "execute_result"
    },
    {
     "data": {
      "image/png": "[encoded data removed]",
      "text/plain": [
       "<Figure size 1440x1440 with 9 Axes>"
      ]
     },
     "metadata": {},
     "output_type": "display_data"
    }
   ],
   "source": [
    "f, axes = plt.subplots(3, 3,figsize=(20,20))\n",
    "\n",
    "axes[0][0].plot(fpr_bnb, tpr_bnb, color='darkred', lw=2, label='ROC curve (area = {:0.3f})'.format(roc_auc_bnb))\n",
    "axes[0][0].plot([0, 1], [0, 1], color='navy', lw=2, linestyle='--')\n",
    "axes[0][0].set(xlim=[-0.01, 1.0], ylim=[-0.01, 1.05])\n",
    "axes[0][0].set(xlabel ='False Positive Rate', ylabel = 'True Positive Rate', title = 'Bernoulli Naive Bayes')\n",
    "axes[0][0].legend(loc='lower right', fontsize=13)\n",
    "\n",
    "axes[0][1].plot(fpr_mnb, tpr_mnb, color='darkred', lw=2, label='ROC curve (area = {:0.3f})'.format(roc_auc_mnb))\n",
    "axes[0][1].plot([0, 1], [0, 1], color='navy', lw=2, linestyle='--')\n",
    "axes[0][1].set(xlim=[-0.01, 1.0], ylim=[-0.01, 1.05])\n",
    "axes[0][1].set(xlabel ='False Positive Rate', ylabel = 'True Positive Rate', title = 'Multinomial Naive Bayes')\n",
    "axes[0][1].legend(loc='lower right', fontsize=13)\n",
    "\n",
    "axes[0][2].plot(fpr_lr, tpr_lr, color='darkred', lw=2, label='ROC curve (area = {:0.3f})'.format(roc_auc_lr))\n",
    "axes[0][2].plot([0, 1], [0, 1], color='navy', lw=2, linestyle='--')\n",
    "axes[0][2].set(xlim=[-0.01, 1.0], ylim=[-0.01, 1.05])\n",
    "axes[0][2].set(xlabel ='False Positive Rate', ylabel = 'True Positive Rate', title = 'Logistic Regression')\n",
    "axes[0][2].legend(loc='lower right', fontsize=13)\n",
    "\n",
    "axes[1][0].plot(fpr_xgb, tpr_xgb, color='darkred', lw=2, label='ROC curve (area = {:0.3f})'.format(roc_auc_xgb))\n",
    "axes[1][0].plot([0, 1], [0, 1], color='navy', lw=2, linestyle='--')\n",
    "axes[1][0].set(xlim=[-0.01, 1.0], ylim=[-0.01, 1.05])\n",
    "axes[1][0].set(xlabel ='False Positive Rate', ylabel = 'True Positive Rate', title = 'XGBoost')\n",
    "axes[1][0].legend(loc='lower right', fontsize=13)\n",
    "\n",
    "axes[1][1].plot(fpr_dt, tpr_dt, color='darkred', lw=2, label='ROC curve (area = {:0.3f})'.format(roc_auc_dt))\n",
    "axes[1][1].plot([0, 1], [0, 1], color='navy', lw=2, linestyle='--')\n",
    "axes[1][1].set(xlim=[-0.01, 1.0], ylim=[-0.01, 1.05])\n",
    "axes[1][1].set(xlabel ='False Positive Rate', ylabel = 'True Positive Rate', title = 'Decision Tree')\n",
    "axes[1][1].legend(loc='lower right', fontsize=13)\n",
    "\n",
    "axes[1][2].plot(fpr_km, tpr_km, color='darkred', lw=2, label='ROC curve (area = {:0.3f})'.format(roc_auc_km))\n",
    "axes[1][2].plot([0, 1], [0, 1], color='navy', lw=2, linestyle='--')\n",
    "axes[1][2].set(xlim=[-0.01, 1.0], ylim=[-0.01, 1.05])\n",
    "axes[1][2].set(xlabel ='False Positive Rate', ylabel = 'True Positive Rate', title = 'K-Means')\n",
    "axes[1][2].legend(loc='lower right', fontsize=13)\n",
    "\n",
    "axes[2][0].plot(fpr_rf, tpr_rf, color='darkred', lw=2, label='ROC curve (area = {:0.3f})'.format(roc_auc_rf))\n",
    "axes[2][0].plot([0, 1], [0, 1], color='navy', lw=2, linestyle='--')\n",
    "axes[2][0].set(xlim=[-0.01, 1.0], ylim=[-0.01, 1.05])\n",
    "axes[2][0].set(xlabel ='False Positive Rate', ylabel = 'True Positive Rate', title = 'Random Forest')\n",
    "axes[2][0].legend(loc='lower right', fontsize=13)\n",
    "\n",
    "axes[2][1].plot(fpr_svm, tpr_svm, color='darkred', lw=2, label='ROC curve (area = {:0.3f})'.format(roc_auc_svm))\n",
    "axes[2][1].plot([0, 1], [0, 1], color='navy', lw=2, linestyle='--')\n",
    "axes[2][1].set(xlim=[-0.01, 1.0], ylim=[-0.01, 1.05])\n",
    "axes[2][1].set(xlabel ='False Positive Rate', ylabel = 'True Positive Rate', title = 'SVM')\n",
    "axes[2][1].legend(loc='lower right', fontsize=13)\n",
    "\n",
    "axes[2][2].plot(fpr_nn, tpr_nn, color='darkred', lw=2, label='ROC curve (area = {:0.3f})'.format(roc_auc_nn))\n",
    "axes[2][2].plot([0, 1], [0, 1], color='navy', lw=2, linestyle='--')\n",
    "axes[2][2].set(xlim=[-0.01, 1.0], ylim=[-0.01, 1.05])\n",
    "axes[2][2].set(xlabel ='False Positive Rate', ylabel = 'True Positive Rate', title = 'Neural Network')\n",
    "axes[2][2].legend(loc='lower right', fontsize=13)"
   ]
  },
  {
   "cell_type": "markdown",
   "metadata": {},
   "source": [
    "**From the above graphs, we can observe that the model of Multinomial Naive Bayes has good performance and accuracy. Because,\n",
    " the multinomial Naive Bayes classifier is suitable for classification with discrete features (e.g., word counts for text classification).**"
   ]
  },
  {
   "cell_type": "markdown",
   "metadata": {},
   "source": [
    "### Inferences:\n",
    "\n",
    "#####            1.Age is not showing much impact in choice selection.\n",
    "            \n",
    "#####           2.General division contributes more reviews.\n",
    "            \n",
    "#####           3.Sleep class has the lowest purchases.\n",
    "            \n",
    "#####           4.Tops department has much following in the current trend.\n",
    "           \n",
    "#####           5.Dresses and knits class tops the list.\n",
    "           \n",
    "#####           6.Dresses class need urgent care.\n",
    "            \n",
    "#####           7.Longue class is most recomended much,it needs to be improved.\n",
    "            \n",
    "#####           8.Good reviews are more (almost 63%).\n",
    "            \n",
    "#####            9.'Dress' word is the most common word in both positive and negative reviews.\n",
    "            \n",
    "#####          10.Multinomial Naive Bayes  model is best suitable for this analysis as it has good performance and accuracy.\n"
   ]
  },
  {
   "cell_type": "code",
   "execution_count": null,
   "metadata": {},
   "outputs": [],
   "source": []
  }
 ],
 "metadata": {
  "kernelspec": {
   "display_name": "Python 3",
   "language": "python",
   "name": "python3"
  },
  "language_info": {
   "codemirror_mode": {
    "name": "ipython",
    "version": 3
   },
   "file_extension": ".py",
   "mimetype": "text/x-python",
   "name": "python",
   "nbconvert_exporter": "python",
   "pygments_lexer": "ipython3",
   "version": "3.7.0"
  }
 },
 "nbformat": 4,
 "nbformat_minor": 2
}
